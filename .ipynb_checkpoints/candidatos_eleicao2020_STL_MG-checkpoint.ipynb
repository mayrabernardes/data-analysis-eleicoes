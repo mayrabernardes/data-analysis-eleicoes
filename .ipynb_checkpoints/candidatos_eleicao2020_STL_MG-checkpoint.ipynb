{
 "cells": [
  {
   "cell_type": "code",
   "execution_count": 1,
   "metadata": {},
   "outputs": [],
   "source": [
    "#importação de bibliotecas e definição de estilo dos gráficos\n",
    "\n",
    "import pandas as pd\n",
    "from pathlib import Path\n",
    "import glob, os\n",
    "import numpy as np\n",
    "import seaborn as sns\n",
    "import matplotlib.pyplot as plt\n",
    "from matplotlib import style\n",
    "\n",
    "#estilo \n",
    "\n",
    "style.use('ggplot')\n",
    "plt.rcParams['figure.figsize'] = (20,10)"
   ]
  },
  {
   "cell_type": "code",
   "execution_count": 2,
   "metadata": {},
   "outputs": [],
   "source": [
    "# Lendo dados sobre candidatos de São Thome das Letras apenas com a colunas para análises\n",
    "\n",
    "df = pd.read_csv('C:/Users/Mayra/Documents/Faculdade/data-analysis-eleicoes/dados_cand_2020/consulta_cand_2020_MG_STL.csv', \n",
    "                        encoding='latin-1', index_col=None, low_memory=False, error_bad_lines=False, sep=';', quotechar='\"', \n",
    "                     usecols=['NM_UE','DS_CARGO','SQ_CANDIDATO','NM_CANDIDATO','NM_URNA_CANDIDATO', 'SG_PARTIDO',\n",
    "                              'NR_IDADE_DATA_POSSE','DS_GENERO', 'DS_GRAU_INSTRUCAO','DS_COR_RACA','DS_OCUPACAO',\n",
    "                              'VR_DESPESA_MAX_CAMPANHA'])"
   ]
  },
  {
   "cell_type": "code",
   "execution_count": 3,
   "metadata": {},
   "outputs": [
    {
     "data": {
      "text/plain": [
       "RangeIndex(start=0, stop=63, step=1)"
      ]
     },
     "execution_count": 3,
     "metadata": {},
     "output_type": "execute_result"
    }
   ],
   "source": [
    "# Verificando quantas linhas foram lidas\n",
    "df.index"
   ]
  },
  {
   "cell_type": "code",
   "execution_count": 4,
   "metadata": {},
   "outputs": [
    {
     "data": {
      "text/plain": [
       "63"
      ]
     },
     "execution_count": 4,
     "metadata": {},
     "output_type": "execute_result"
    }
   ],
   "source": [
    "# Verificando o número de candidatos únicos\n",
    "df['SQ_CANDIDATO'].nunique()"
   ]
  },
  {
   "cell_type": "code",
   "execution_count": 5,
   "metadata": {},
   "outputs": [
    {
     "data": {
      "text/plain": [
       "NM_UE                      0\n",
       "DS_CARGO                   0\n",
       "SQ_CANDIDATO               0\n",
       "NM_CANDIDATO               0\n",
       "NM_URNA_CANDIDATO          0\n",
       "SG_PARTIDO                 0\n",
       "NR_IDADE_DATA_POSSE        0\n",
       "DS_GENERO                  0\n",
       "DS_GRAU_INSTRUCAO          0\n",
       "DS_COR_RACA                0\n",
       "DS_OCUPACAO                0\n",
       "VR_DESPESA_MAX_CAMPANHA    0\n",
       "dtype: int64"
      ]
     },
     "execution_count": 5,
     "metadata": {},
     "output_type": "execute_result"
    }
   ],
   "source": [
    "# Verificando valores nulos\n",
    "df.isnull().sum()"
   ]
  },
  {
   "cell_type": "code",
   "execution_count": 6,
   "metadata": {},
   "outputs": [
    {
     "data": {
      "text/html": [
       "<div>\n",
       "<style scoped>\n",
       "    .dataframe tbody tr th:only-of-type {\n",
       "        vertical-align: middle;\n",
       "    }\n",
       "\n",
       "    .dataframe tbody tr th {\n",
       "        vertical-align: top;\n",
       "    }\n",
       "\n",
       "    .dataframe thead th {\n",
       "        text-align: right;\n",
       "    }\n",
       "</style>\n",
       "<table border=\"1\" class=\"dataframe\">\n",
       "  <thead>\n",
       "    <tr style=\"text-align: right;\">\n",
       "      <th></th>\n",
       "      <th>0</th>\n",
       "      <th>1</th>\n",
       "      <th>2</th>\n",
       "    </tr>\n",
       "  </thead>\n",
       "  <tbody>\n",
       "    <tr>\n",
       "      <th>NM_UE</th>\n",
       "      <td>SÃO THOMÉ DAS LETRAS</td>\n",
       "      <td>SÃO THOMÉ DAS LETRAS</td>\n",
       "      <td>SÃO THOMÉ DAS LETRAS</td>\n",
       "    </tr>\n",
       "    <tr>\n",
       "      <th>DS_CARGO</th>\n",
       "      <td>VEREADOR</td>\n",
       "      <td>VEREADOR</td>\n",
       "      <td>VICE-PREFEITO</td>\n",
       "    </tr>\n",
       "    <tr>\n",
       "      <th>SQ_CANDIDATO</th>\n",
       "      <td>130000780839</td>\n",
       "      <td>130000780841</td>\n",
       "      <td>130000953264</td>\n",
       "    </tr>\n",
       "    <tr>\n",
       "      <th>NM_CANDIDATO</th>\n",
       "      <td>PAULO SÉRGIO NOGUEIRA</td>\n",
       "      <td>EMERSON SILVA PEREIRA</td>\n",
       "      <td>JOAQUIM DE JESUS PEREIRA</td>\n",
       "    </tr>\n",
       "    <tr>\n",
       "      <th>NM_URNA_CANDIDATO</th>\n",
       "      <td>SERGINHO ZOINHO</td>\n",
       "      <td>CHICLETINHO 15150</td>\n",
       "      <td>QUINZINHO PEREIRA</td>\n",
       "    </tr>\n",
       "    <tr>\n",
       "      <th>SG_PARTIDO</th>\n",
       "      <td>MDB</td>\n",
       "      <td>MDB</td>\n",
       "      <td>MDB</td>\n",
       "    </tr>\n",
       "    <tr>\n",
       "      <th>NR_IDADE_DATA_POSSE</th>\n",
       "      <td>42</td>\n",
       "      <td>22</td>\n",
       "      <td>63</td>\n",
       "    </tr>\n",
       "    <tr>\n",
       "      <th>DS_GENERO</th>\n",
       "      <td>MASCULINO</td>\n",
       "      <td>MASCULINO</td>\n",
       "      <td>MASCULINO</td>\n",
       "    </tr>\n",
       "    <tr>\n",
       "      <th>DS_GRAU_INSTRUCAO</th>\n",
       "      <td>ENSINO MÉDIO COMPLETO</td>\n",
       "      <td>ENSINO FUNDAMENTAL INCOMPLETO</td>\n",
       "      <td>ENSINO FUNDAMENTAL INCOMPLETO</td>\n",
       "    </tr>\n",
       "    <tr>\n",
       "      <th>DS_COR_RACA</th>\n",
       "      <td>PRETA</td>\n",
       "      <td>BRANCA</td>\n",
       "      <td>PARDA</td>\n",
       "    </tr>\n",
       "    <tr>\n",
       "      <th>DS_OCUPACAO</th>\n",
       "      <td>OPERADOR DE APARELHOS DE PRODUÇÃO INDUSTRIAL</td>\n",
       "      <td>MOTORISTA PARTICULAR</td>\n",
       "      <td>MOTORISTA PARTICULAR</td>\n",
       "    </tr>\n",
       "    <tr>\n",
       "      <th>VR_DESPESA_MAX_CAMPANHA</th>\n",
       "      <td>12308</td>\n",
       "      <td>12308</td>\n",
       "      <td>-1</td>\n",
       "    </tr>\n",
       "  </tbody>\n",
       "</table>\n",
       "</div>"
      ],
      "text/plain": [
       "                                                                    0  \\\n",
       "NM_UE                                            SÃO THOMÉ DAS LETRAS   \n",
       "DS_CARGO                                                     VEREADOR   \n",
       "SQ_CANDIDATO                                             130000780839   \n",
       "NM_CANDIDATO                                    PAULO SÉRGIO NOGUEIRA   \n",
       "NM_URNA_CANDIDATO                                     SERGINHO ZOINHO   \n",
       "SG_PARTIDO                                                        MDB   \n",
       "NR_IDADE_DATA_POSSE                                                42   \n",
       "DS_GENERO                                                   MASCULINO   \n",
       "DS_GRAU_INSTRUCAO                               ENSINO MÉDIO COMPLETO   \n",
       "DS_COR_RACA                                                     PRETA   \n",
       "DS_OCUPACAO              OPERADOR DE APARELHOS DE PRODUÇÃO INDUSTRIAL   \n",
       "VR_DESPESA_MAX_CAMPANHA                                         12308   \n",
       "\n",
       "                                                     1  \\\n",
       "NM_UE                             SÃO THOMÉ DAS LETRAS   \n",
       "DS_CARGO                                      VEREADOR   \n",
       "SQ_CANDIDATO                              130000780841   \n",
       "NM_CANDIDATO                     EMERSON SILVA PEREIRA   \n",
       "NM_URNA_CANDIDATO                    CHICLETINHO 15150   \n",
       "SG_PARTIDO                                         MDB   \n",
       "NR_IDADE_DATA_POSSE                                 22   \n",
       "DS_GENERO                                    MASCULINO   \n",
       "DS_GRAU_INSTRUCAO        ENSINO FUNDAMENTAL INCOMPLETO   \n",
       "DS_COR_RACA                                     BRANCA   \n",
       "DS_OCUPACAO                       MOTORISTA PARTICULAR   \n",
       "VR_DESPESA_MAX_CAMPANHA                          12308   \n",
       "\n",
       "                                                     2  \n",
       "NM_UE                             SÃO THOMÉ DAS LETRAS  \n",
       "DS_CARGO                                 VICE-PREFEITO  \n",
       "SQ_CANDIDATO                              130000953264  \n",
       "NM_CANDIDATO                  JOAQUIM DE JESUS PEREIRA  \n",
       "NM_URNA_CANDIDATO                    QUINZINHO PEREIRA  \n",
       "SG_PARTIDO                                         MDB  \n",
       "NR_IDADE_DATA_POSSE                                 63  \n",
       "DS_GENERO                                    MASCULINO  \n",
       "DS_GRAU_INSTRUCAO        ENSINO FUNDAMENTAL INCOMPLETO  \n",
       "DS_COR_RACA                                      PARDA  \n",
       "DS_OCUPACAO                       MOTORISTA PARTICULAR  \n",
       "VR_DESPESA_MAX_CAMPANHA                             -1  "
      ]
     },
     "execution_count": 6,
     "metadata": {},
     "output_type": "execute_result"
    }
   ],
   "source": [
    "df.head(3).T"
   ]
  },
  {
   "cell_type": "code",
   "execution_count": 7,
   "metadata": {},
   "outputs": [],
   "source": [
    "# Elimando as linhas duplicadas\n",
    "df.drop_duplicates(keep='last', inplace=True)"
   ]
  },
  {
   "cell_type": "code",
   "execution_count": 9,
   "metadata": {},
   "outputs": [],
   "source": [
    "# Lendo e juntando com o csv dos bens dos candidatos - disponível em https://bit.ly/3lnh6Ge\n",
    "\n",
    "bens_cand = pd.read_csv('C:/Users/Mayra/Documents/Faculdade/data-analysis-eleicoes/dados_cand_2020/bem_candidato_2020_BRASIL.csv', \n",
    "                        encoding='latin-1', index_col=None, low_memory=False, error_bad_lines=False, decimal=',',\n",
    "                        sep=';', quotechar='\"', usecols=['SG_UF', 'SG_UE','SQ_CANDIDATO','DS_BEM_CANDIDATO','VR_BEM_CANDIDATO'])"
   ]
  },
  {
   "cell_type": "code",
   "execution_count": 10,
   "metadata": {},
   "outputs": [
    {
     "data": {
      "text/html": [
       "<div>\n",
       "<style scoped>\n",
       "    .dataframe tbody tr th:only-of-type {\n",
       "        vertical-align: middle;\n",
       "    }\n",
       "\n",
       "    .dataframe tbody tr th {\n",
       "        vertical-align: top;\n",
       "    }\n",
       "\n",
       "    .dataframe thead th {\n",
       "        text-align: right;\n",
       "    }\n",
       "</style>\n",
       "<table border=\"1\" class=\"dataframe\">\n",
       "  <thead>\n",
       "    <tr style=\"text-align: right;\">\n",
       "      <th></th>\n",
       "      <th>SG_UF</th>\n",
       "      <th>SG_UE</th>\n",
       "      <th>SQ_CANDIDATO</th>\n",
       "      <th>DS_BEM_CANDIDATO</th>\n",
       "      <th>VR_BEM_CANDIDATO</th>\n",
       "    </tr>\n",
       "  </thead>\n",
       "  <tbody>\n",
       "    <tr>\n",
       "      <th>0</th>\n",
       "      <td>GO</td>\n",
       "      <td>96059</td>\n",
       "      <td>90000791563</td>\n",
       "      <td>UM LOTE DE TERRENO LOCALIZADO AV MINAS GERAIS ...</td>\n",
       "      <td>5000.0</td>\n",
       "    </tr>\n",
       "    <tr>\n",
       "      <th>1</th>\n",
       "      <td>PR</td>\n",
       "      <td>74446</td>\n",
       "      <td>160000996056</td>\n",
       "      <td>LOCALIZADO NA RUA ANTONIO SIQUEIRA VIDAL</td>\n",
       "      <td>700000.0</td>\n",
       "    </tr>\n",
       "    <tr>\n",
       "      <th>2</th>\n",
       "      <td>CE</td>\n",
       "      <td>15873</td>\n",
       "      <td>60000979523</td>\n",
       "      <td>BANCO DO BRASIL</td>\n",
       "      <td>3000.0</td>\n",
       "    </tr>\n",
       "    <tr>\n",
       "      <th>3</th>\n",
       "      <td>BA</td>\n",
       "      <td>35696</td>\n",
       "      <td>50000792280</td>\n",
       "      <td>2,5  HECTARES FAZENDA CAPÃO</td>\n",
       "      <td>30000.0</td>\n",
       "    </tr>\n",
       "    <tr>\n",
       "      <th>4</th>\n",
       "      <td>RS</td>\n",
       "      <td>85413</td>\n",
       "      <td>210000783855</td>\n",
       "      <td>TERRENO</td>\n",
       "      <td>550000.0</td>\n",
       "    </tr>\n",
       "  </tbody>\n",
       "</table>\n",
       "</div>"
      ],
      "text/plain": [
       "  SG_UF  SG_UE  SQ_CANDIDATO  \\\n",
       "0    GO  96059   90000791563   \n",
       "1    PR  74446  160000996056   \n",
       "2    CE  15873   60000979523   \n",
       "3    BA  35696   50000792280   \n",
       "4    RS  85413  210000783855   \n",
       "\n",
       "                                    DS_BEM_CANDIDATO  VR_BEM_CANDIDATO  \n",
       "0  UM LOTE DE TERRENO LOCALIZADO AV MINAS GERAIS ...            5000.0  \n",
       "1           LOCALIZADO NA RUA ANTONIO SIQUEIRA VIDAL          700000.0  \n",
       "2                                    BANCO DO BRASIL            3000.0  \n",
       "3                       2,5  HECTARES FAZENDA CAPÃO            30000.0  \n",
       "4                                            TERRENO          550000.0  "
      ]
     },
     "execution_count": 10,
     "metadata": {},
     "output_type": "execute_result"
    }
   ],
   "source": [
    "bens_cand.head()"
   ]
  },
  {
   "cell_type": "code",
   "execution_count": 11,
   "metadata": {},
   "outputs": [],
   "source": [
    "bens_cand.columns = ['CODIGO_TSE' if x=='SG_UE' else x for x in bens_cand.columns] "
   ]
  },
  {
   "cell_type": "code",
   "execution_count": 12,
   "metadata": {},
   "outputs": [
    {
     "data": {
      "text/plain": [
       "SG_UF               0\n",
       "CODIGO_TSE          0\n",
       "SQ_CANDIDATO        0\n",
       "DS_BEM_CANDIDATO    0\n",
       "VR_BEM_CANDIDATO    0\n",
       "dtype: int64"
      ]
     },
     "execution_count": 12,
     "metadata": {},
     "output_type": "execute_result"
    }
   ],
   "source": [
    "bens_cand.isnull().sum()"
   ]
  },
  {
   "cell_type": "code",
   "execution_count": 13,
   "metadata": {},
   "outputs": [
    {
     "data": {
      "text/html": [
       "<div>\n",
       "<style scoped>\n",
       "    .dataframe tbody tr th:only-of-type {\n",
       "        vertical-align: middle;\n",
       "    }\n",
       "\n",
       "    .dataframe tbody tr th {\n",
       "        vertical-align: top;\n",
       "    }\n",
       "\n",
       "    .dataframe thead th {\n",
       "        text-align: right;\n",
       "    }\n",
       "</style>\n",
       "<table border=\"1\" class=\"dataframe\">\n",
       "  <thead>\n",
       "    <tr style=\"text-align: right;\">\n",
       "      <th></th>\n",
       "      <th>VR_BEM_CANDIDATO</th>\n",
       "    </tr>\n",
       "    <tr>\n",
       "      <th>SQ_CANDIDATO</th>\n",
       "      <th></th>\n",
       "    </tr>\n",
       "  </thead>\n",
       "  <tbody>\n",
       "    <tr>\n",
       "      <th>10000641345</th>\n",
       "      <td>319500.00</td>\n",
       "    </tr>\n",
       "    <tr>\n",
       "      <th>10000641349</th>\n",
       "      <td>179000.00</td>\n",
       "    </tr>\n",
       "    <tr>\n",
       "      <th>10000641351</th>\n",
       "      <td>7000.00</td>\n",
       "    </tr>\n",
       "    <tr>\n",
       "      <th>10000641352</th>\n",
       "      <td>150000.00</td>\n",
       "    </tr>\n",
       "    <tr>\n",
       "      <th>10000641353</th>\n",
       "      <td>150000.00</td>\n",
       "    </tr>\n",
       "    <tr>\n",
       "      <th>...</th>\n",
       "      <td>...</td>\n",
       "    </tr>\n",
       "    <tr>\n",
       "      <th>270001267882</th>\n",
       "      <td>110000.00</td>\n",
       "    </tr>\n",
       "    <tr>\n",
       "      <th>270001267915</th>\n",
       "      <td>20000.00</td>\n",
       "    </tr>\n",
       "    <tr>\n",
       "      <th>270001267986</th>\n",
       "      <td>12200.00</td>\n",
       "    </tr>\n",
       "    <tr>\n",
       "      <th>270001268005</th>\n",
       "      <td>80376.54</td>\n",
       "    </tr>\n",
       "    <tr>\n",
       "      <th>270001268098</th>\n",
       "      <td>305000.00</td>\n",
       "    </tr>\n",
       "  </tbody>\n",
       "</table>\n",
       "<p>338803 rows × 1 columns</p>\n",
       "</div>"
      ],
      "text/plain": [
       "              VR_BEM_CANDIDATO\n",
       "SQ_CANDIDATO                  \n",
       "10000641345          319500.00\n",
       "10000641349          179000.00\n",
       "10000641351            7000.00\n",
       "10000641352          150000.00\n",
       "10000641353          150000.00\n",
       "...                        ...\n",
       "270001267882         110000.00\n",
       "270001267915          20000.00\n",
       "270001267986          12200.00\n",
       "270001268005          80376.54\n",
       "270001268098         305000.00\n",
       "\n",
       "[338803 rows x 1 columns]"
      ]
     },
     "execution_count": 13,
     "metadata": {},
     "output_type": "execute_result"
    }
   ],
   "source": [
    "# Somando o total de bens por candidato \n",
    "df_bens = pd.pivot_table(bens_cand,index=['SQ_CANDIDATO'],aggfunc={'VR_BEM_CANDIDATO':np.sum})\n",
    "df_bens"
   ]
  },
  {
   "cell_type": "code",
   "execution_count": 14,
   "metadata": {},
   "outputs": [
    {
     "data": {
      "text/html": [
       "<div>\n",
       "<style scoped>\n",
       "    .dataframe tbody tr th:only-of-type {\n",
       "        vertical-align: middle;\n",
       "    }\n",
       "\n",
       "    .dataframe tbody tr th {\n",
       "        vertical-align: top;\n",
       "    }\n",
       "\n",
       "    .dataframe thead th {\n",
       "        text-align: right;\n",
       "    }\n",
       "</style>\n",
       "<table border=\"1\" class=\"dataframe\">\n",
       "  <thead>\n",
       "    <tr style=\"text-align: right;\">\n",
       "      <th></th>\n",
       "      <th>0</th>\n",
       "      <th>1</th>\n",
       "      <th>2</th>\n",
       "    </tr>\n",
       "  </thead>\n",
       "  <tbody>\n",
       "    <tr>\n",
       "      <th>NM_UE</th>\n",
       "      <td>SÃO THOMÉ DAS LETRAS</td>\n",
       "      <td>SÃO THOMÉ DAS LETRAS</td>\n",
       "      <td>SÃO THOMÉ DAS LETRAS</td>\n",
       "    </tr>\n",
       "    <tr>\n",
       "      <th>DS_CARGO</th>\n",
       "      <td>VEREADOR</td>\n",
       "      <td>VEREADOR</td>\n",
       "      <td>VICE-PREFEITO</td>\n",
       "    </tr>\n",
       "    <tr>\n",
       "      <th>SQ_CANDIDATO</th>\n",
       "      <td>130000780839</td>\n",
       "      <td>130000780841</td>\n",
       "      <td>130000953264</td>\n",
       "    </tr>\n",
       "    <tr>\n",
       "      <th>NM_CANDIDATO</th>\n",
       "      <td>PAULO SÉRGIO NOGUEIRA</td>\n",
       "      <td>EMERSON SILVA PEREIRA</td>\n",
       "      <td>JOAQUIM DE JESUS PEREIRA</td>\n",
       "    </tr>\n",
       "    <tr>\n",
       "      <th>NM_URNA_CANDIDATO</th>\n",
       "      <td>SERGINHO ZOINHO</td>\n",
       "      <td>CHICLETINHO 15150</td>\n",
       "      <td>QUINZINHO PEREIRA</td>\n",
       "    </tr>\n",
       "    <tr>\n",
       "      <th>SG_PARTIDO</th>\n",
       "      <td>MDB</td>\n",
       "      <td>MDB</td>\n",
       "      <td>MDB</td>\n",
       "    </tr>\n",
       "    <tr>\n",
       "      <th>NR_IDADE_DATA_POSSE</th>\n",
       "      <td>42</td>\n",
       "      <td>22</td>\n",
       "      <td>63</td>\n",
       "    </tr>\n",
       "    <tr>\n",
       "      <th>DS_GENERO</th>\n",
       "      <td>MASCULINO</td>\n",
       "      <td>MASCULINO</td>\n",
       "      <td>MASCULINO</td>\n",
       "    </tr>\n",
       "    <tr>\n",
       "      <th>DS_GRAU_INSTRUCAO</th>\n",
       "      <td>ENSINO MÉDIO COMPLETO</td>\n",
       "      <td>ENSINO FUNDAMENTAL INCOMPLETO</td>\n",
       "      <td>ENSINO FUNDAMENTAL INCOMPLETO</td>\n",
       "    </tr>\n",
       "    <tr>\n",
       "      <th>DS_COR_RACA</th>\n",
       "      <td>PRETA</td>\n",
       "      <td>BRANCA</td>\n",
       "      <td>PARDA</td>\n",
       "    </tr>\n",
       "    <tr>\n",
       "      <th>DS_OCUPACAO</th>\n",
       "      <td>OPERADOR DE APARELHOS DE PRODUÇÃO INDUSTRIAL</td>\n",
       "      <td>MOTORISTA PARTICULAR</td>\n",
       "      <td>MOTORISTA PARTICULAR</td>\n",
       "    </tr>\n",
       "    <tr>\n",
       "      <th>VR_DESPESA_MAX_CAMPANHA</th>\n",
       "      <td>12308</td>\n",
       "      <td>12308</td>\n",
       "      <td>-1</td>\n",
       "    </tr>\n",
       "    <tr>\n",
       "      <th>VR_BEM_CANDIDATO</th>\n",
       "      <td>1500</td>\n",
       "      <td>38000</td>\n",
       "      <td>159500</td>\n",
       "    </tr>\n",
       "  </tbody>\n",
       "</table>\n",
       "</div>"
      ],
      "text/plain": [
       "                                                                    0  \\\n",
       "NM_UE                                            SÃO THOMÉ DAS LETRAS   \n",
       "DS_CARGO                                                     VEREADOR   \n",
       "SQ_CANDIDATO                                             130000780839   \n",
       "NM_CANDIDATO                                    PAULO SÉRGIO NOGUEIRA   \n",
       "NM_URNA_CANDIDATO                                     SERGINHO ZOINHO   \n",
       "SG_PARTIDO                                                        MDB   \n",
       "NR_IDADE_DATA_POSSE                                                42   \n",
       "DS_GENERO                                                   MASCULINO   \n",
       "DS_GRAU_INSTRUCAO                               ENSINO MÉDIO COMPLETO   \n",
       "DS_COR_RACA                                                     PRETA   \n",
       "DS_OCUPACAO              OPERADOR DE APARELHOS DE PRODUÇÃO INDUSTRIAL   \n",
       "VR_DESPESA_MAX_CAMPANHA                                         12308   \n",
       "VR_BEM_CANDIDATO                                                 1500   \n",
       "\n",
       "                                                     1  \\\n",
       "NM_UE                             SÃO THOMÉ DAS LETRAS   \n",
       "DS_CARGO                                      VEREADOR   \n",
       "SQ_CANDIDATO                              130000780841   \n",
       "NM_CANDIDATO                     EMERSON SILVA PEREIRA   \n",
       "NM_URNA_CANDIDATO                    CHICLETINHO 15150   \n",
       "SG_PARTIDO                                         MDB   \n",
       "NR_IDADE_DATA_POSSE                                 22   \n",
       "DS_GENERO                                    MASCULINO   \n",
       "DS_GRAU_INSTRUCAO        ENSINO FUNDAMENTAL INCOMPLETO   \n",
       "DS_COR_RACA                                     BRANCA   \n",
       "DS_OCUPACAO                       MOTORISTA PARTICULAR   \n",
       "VR_DESPESA_MAX_CAMPANHA                          12308   \n",
       "VR_BEM_CANDIDATO                                 38000   \n",
       "\n",
       "                                                     2  \n",
       "NM_UE                             SÃO THOMÉ DAS LETRAS  \n",
       "DS_CARGO                                 VICE-PREFEITO  \n",
       "SQ_CANDIDATO                              130000953264  \n",
       "NM_CANDIDATO                  JOAQUIM DE JESUS PEREIRA  \n",
       "NM_URNA_CANDIDATO                    QUINZINHO PEREIRA  \n",
       "SG_PARTIDO                                         MDB  \n",
       "NR_IDADE_DATA_POSSE                                 63  \n",
       "DS_GENERO                                    MASCULINO  \n",
       "DS_GRAU_INSTRUCAO        ENSINO FUNDAMENTAL INCOMPLETO  \n",
       "DS_COR_RACA                                      PARDA  \n",
       "DS_OCUPACAO                       MOTORISTA PARTICULAR  \n",
       "VR_DESPESA_MAX_CAMPANHA                             -1  \n",
       "VR_BEM_CANDIDATO                                159500  "
      ]
     },
     "execution_count": 14,
     "metadata": {},
     "output_type": "execute_result"
    }
   ],
   "source": [
    "# Juntando as informações e criando a planilha final\n",
    "candidatos = df.merge(df_bens, on='SQ_CANDIDATO', how='left')\n",
    "candidatos.head(3).T"
   ]
  },
  {
   "cell_type": "code",
   "execution_count": 15,
   "metadata": {},
   "outputs": [
    {
     "data": {
      "text/plain": [
       "NM_UE                       0\n",
       "DS_CARGO                    0\n",
       "SQ_CANDIDATO                0\n",
       "NM_CANDIDATO                0\n",
       "NM_URNA_CANDIDATO           0\n",
       "SG_PARTIDO                  0\n",
       "NR_IDADE_DATA_POSSE         0\n",
       "DS_GENERO                   0\n",
       "DS_GRAU_INSTRUCAO           0\n",
       "DS_COR_RACA                 0\n",
       "DS_OCUPACAO                 0\n",
       "VR_DESPESA_MAX_CAMPANHA     0\n",
       "VR_BEM_CANDIDATO           16\n",
       "dtype: int64"
      ]
     },
     "execution_count": 15,
     "metadata": {},
     "output_type": "execute_result"
    }
   ],
   "source": [
    "candidatos.isnull().sum()"
   ]
  },
  {
   "cell_type": "code",
   "execution_count": 16,
   "metadata": {},
   "outputs": [
    {
     "name": "stdout",
     "output_type": "stream",
     "text": [
      "<class 'pandas.core.frame.DataFrame'>\n",
      "Int64Index: 63 entries, 0 to 62\n",
      "Data columns (total 13 columns):\n",
      " #   Column                   Non-Null Count  Dtype  \n",
      "---  ------                   --------------  -----  \n",
      " 0   NM_UE                    63 non-null     object \n",
      " 1   DS_CARGO                 63 non-null     object \n",
      " 2   SQ_CANDIDATO             63 non-null     int64  \n",
      " 3   NM_CANDIDATO             63 non-null     object \n",
      " 4   NM_URNA_CANDIDATO        63 non-null     object \n",
      " 5   SG_PARTIDO               63 non-null     object \n",
      " 6   NR_IDADE_DATA_POSSE      63 non-null     int64  \n",
      " 7   DS_GENERO                63 non-null     object \n",
      " 8   DS_GRAU_INSTRUCAO        63 non-null     object \n",
      " 9   DS_COR_RACA              63 non-null     object \n",
      " 10  DS_OCUPACAO              63 non-null     object \n",
      " 11  VR_DESPESA_MAX_CAMPANHA  63 non-null     int64  \n",
      " 12  VR_BEM_CANDIDATO         47 non-null     float64\n",
      "dtypes: float64(1), int64(3), object(9)\n",
      "memory usage: 6.9+ KB\n"
     ]
    }
   ],
   "source": [
    "candidatos.info()"
   ]
  },
  {
   "cell_type": "code",
   "execution_count": 17,
   "metadata": {},
   "outputs": [
    {
     "data": {
      "text/plain": [
       "63"
      ]
     },
     "execution_count": 17,
     "metadata": {},
     "output_type": "execute_result"
    }
   ],
   "source": [
    "# Confirmando se o número de candidatos continua o mesmo\n",
    "candidatos['SQ_CANDIDATO'].nunique()"
   ]
  },
  {
   "cell_type": "code",
   "execution_count": 18,
   "metadata": {},
   "outputs": [
    {
     "data": {
      "text/plain": [
       "DS_GENERO\n",
       "FEMININO     19\n",
       "MASCULINO    44\n",
       "dtype: int64"
      ]
     },
     "execution_count": 18,
     "metadata": {},
     "output_type": "execute_result"
    }
   ],
   "source": [
    "# Filtrando os candidatos por gênero\n",
    "candidatos.groupby(by='DS_GENERO').size()"
   ]
  },
  {
   "cell_type": "code",
   "execution_count": 19,
   "metadata": {},
   "outputs": [
    {
     "data": {
      "image/png": "[encoded data removed]",
      "text/plain": [
       "<Figure size 1440x720 with 1 Axes>"
      ]
     },
     "metadata": {},
     "output_type": "display_data"
    }
   ],
   "source": [
    "# Visualização em barras por gênero\n",
    "genero = df.groupby(by='DS_GENERO').size()\n",
    "genero.plot(kind ='bar')\n",
    "plt.show()"
   ]
  }
 ],
 "metadata": {
  "kernelspec": {
   "display_name": "Python 3",
   "language": "python",
   "name": "python3"
  },
  "language_info": {
   "codemirror_mode": {
    "name": "ipython",
    "version": 3
   },
   "file_extension": ".py",
   "mimetype": "text/x-python",
   "name": "python",
   "nbconvert_exporter": "python",
   "pygments_lexer": "ipython3",
   "version": "3.8.5"
  }
 },
 "nbformat": 4,
 "nbformat_minor": 4
}
