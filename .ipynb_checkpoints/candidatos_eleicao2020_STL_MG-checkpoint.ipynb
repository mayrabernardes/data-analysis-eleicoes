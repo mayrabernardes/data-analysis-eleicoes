{
 "cells": [
  {
   "cell_type": "code",
   "execution_count": 1,
   "metadata": {},
   "outputs": [],
   "source": [
    "#importação de bibliotecas e definição de estilo dos gráficos\n",
    "\n",
    "import pandas as pd\n",
    "from pathlib import Path\n",
    "import glob, os\n",
    "import numpy as np\n",
    "import seaborn as sns\n",
    "import matplotlib.pyplot as plt\n",
    "from matplotlib import style\n",
    "\n",
    "#estilo \n",
    "\n",
    "style.use('ggplot')\n",
    "plt.rcParams['figure.figsize'] = (20,10)"
   ]
  },
  {
   "cell_type": "code",
   "execution_count": 2,
   "metadata": {},
   "outputs": [],
   "source": [
    "# Lendo dados sobre candidatos de São Thome das Letras apenas com a colunas para análises\n",
    "\n",
    "df = pd.read_csv('C:/Users/Mayra/Documents/Faculdade/data-analysis-eleicoes/dados_cand_2020/consulta_cand_2020_MG.csv', \n",
    "                        encoding='latin-1', index_col=None, low_memory=False, error_bad_lines=False, sep=';', quotechar='\"', \n",
    "                     usecols=['NM_UE','DS_CARGO','SQ_CANDIDATO','NM_CANDIDATO','NM_URNA_CANDIDATO', 'SG_PARTIDO',\n",
    "                              'NR_IDADE_DATA_POSSE','DS_GENERO', 'DS_GRAU_INSTRUCAO','DS_COR_RACA','DS_OCUPACAO',\n",
    "                              'VR_DESPESA_MAX_CAMPANHA'])"
   ]
  },
  {
   "cell_type": "code",
   "execution_count": 3,
   "metadata": {},
   "outputs": [
    {
     "data": {
      "text/plain": [
       "RangeIndex(start=0, stop=81439, step=1)"
      ]
     },
     "execution_count": 3,
     "metadata": {},
     "output_type": "execute_result"
    }
   ],
   "source": [
    "# Verificando quantas linhas foram lidas\n",
    "df.index"
   ]
  },
  {
   "cell_type": "code",
   "execution_count": 4,
   "metadata": {},
   "outputs": [
    {
     "data": {
      "text/plain": [
       "81439"
      ]
     },
     "execution_count": 4,
     "metadata": {},
     "output_type": "execute_result"
    }
   ],
   "source": [
    "# Verificando o número de candidatos únicos\n",
    "df['SQ_CANDIDATO'].nunique()"
   ]
  },
  {
   "cell_type": "code",
   "execution_count": 5,
   "metadata": {},
   "outputs": [
    {
     "data": {
      "text/plain": [
       "NM_UE                      0\n",
       "DS_CARGO                   0\n",
       "SQ_CANDIDATO               0\n",
       "NM_CANDIDATO               0\n",
       "NM_URNA_CANDIDATO          0\n",
       "SG_PARTIDO                 0\n",
       "NR_IDADE_DATA_POSSE        0\n",
       "DS_GENERO                  0\n",
       "DS_GRAU_INSTRUCAO          0\n",
       "DS_COR_RACA                0\n",
       "DS_OCUPACAO                0\n",
       "VR_DESPESA_MAX_CAMPANHA    0\n",
       "dtype: int64"
      ]
     },
     "execution_count": 5,
     "metadata": {},
     "output_type": "execute_result"
    }
   ],
   "source": [
    "# Verificando valores nulos\n",
    "df.isnull().sum()"
   ]
  },
  {
   "cell_type": "code",
   "execution_count": 6,
   "metadata": {},
   "outputs": [
    {
     "data": {
      "text/html": [
       "<div>\n",
       "<style scoped>\n",
       "    .dataframe tbody tr th:only-of-type {\n",
       "        vertical-align: middle;\n",
       "    }\n",
       "\n",
       "    .dataframe tbody tr th {\n",
       "        vertical-align: top;\n",
       "    }\n",
       "\n",
       "    .dataframe thead th {\n",
       "        text-align: right;\n",
       "    }\n",
       "</style>\n",
       "<table border=\"1\" class=\"dataframe\">\n",
       "  <thead>\n",
       "    <tr style=\"text-align: right;\">\n",
       "      <th></th>\n",
       "      <th>0</th>\n",
       "      <th>1</th>\n",
       "      <th>2</th>\n",
       "    </tr>\n",
       "  </thead>\n",
       "  <tbody>\n",
       "    <tr>\n",
       "      <th>NM_UE</th>\n",
       "      <td>ITAÚ DE MINAS</td>\n",
       "      <td>ALVORADA DE MINAS</td>\n",
       "      <td>BUENÓPOLIS</td>\n",
       "    </tr>\n",
       "    <tr>\n",
       "      <th>DS_CARGO</th>\n",
       "      <td>VEREADOR</td>\n",
       "      <td>VEREADOR</td>\n",
       "      <td>VEREADOR</td>\n",
       "    </tr>\n",
       "    <tr>\n",
       "      <th>SQ_CANDIDATO</th>\n",
       "      <td>130001139459</td>\n",
       "      <td>130001057396</td>\n",
       "      <td>130001242117</td>\n",
       "    </tr>\n",
       "    <tr>\n",
       "      <th>NM_CANDIDATO</th>\n",
       "      <td>ELIETE APARECIDA SILVA SANTOS</td>\n",
       "      <td>SIMONE PIRES SIMOES</td>\n",
       "      <td>WANDERSON MARCOS VIVEIROS</td>\n",
       "    </tr>\n",
       "    <tr>\n",
       "      <th>NM_URNA_CANDIDATO</th>\n",
       "      <td>ELIETE</td>\n",
       "      <td>SIMONE PIRES</td>\n",
       "      <td>WANDERSON GESSEIRO</td>\n",
       "    </tr>\n",
       "    <tr>\n",
       "      <th>SG_PARTIDO</th>\n",
       "      <td>DEM</td>\n",
       "      <td>PV</td>\n",
       "      <td>PL</td>\n",
       "    </tr>\n",
       "    <tr>\n",
       "      <th>NR_IDADE_DATA_POSSE</th>\n",
       "      <td>54</td>\n",
       "      <td>43</td>\n",
       "      <td>42</td>\n",
       "    </tr>\n",
       "    <tr>\n",
       "      <th>DS_GENERO</th>\n",
       "      <td>FEMININO</td>\n",
       "      <td>FEMININO</td>\n",
       "      <td>MASCULINO</td>\n",
       "    </tr>\n",
       "    <tr>\n",
       "      <th>DS_GRAU_INSTRUCAO</th>\n",
       "      <td>ENSINO FUNDAMENTAL INCOMPLETO</td>\n",
       "      <td>ENSINO FUNDAMENTAL INCOMPLETO</td>\n",
       "      <td>ENSINO FUNDAMENTAL COMPLETO</td>\n",
       "    </tr>\n",
       "    <tr>\n",
       "      <th>DS_COR_RACA</th>\n",
       "      <td>PRETA</td>\n",
       "      <td>PRETA</td>\n",
       "      <td>PARDA</td>\n",
       "    </tr>\n",
       "    <tr>\n",
       "      <th>DS_OCUPACAO</th>\n",
       "      <td>CABELEIREIRO E BARBEIRO</td>\n",
       "      <td>DONA DE CASA</td>\n",
       "      <td>OUTROS</td>\n",
       "    </tr>\n",
       "    <tr>\n",
       "      <th>VR_DESPESA_MAX_CAMPANHA</th>\n",
       "      <td>12308</td>\n",
       "      <td>12308</td>\n",
       "      <td>12308</td>\n",
       "    </tr>\n",
       "  </tbody>\n",
       "</table>\n",
       "</div>"
      ],
      "text/plain": [
       "                                                     0  \\\n",
       "NM_UE                                    ITAÚ DE MINAS   \n",
       "DS_CARGO                                      VEREADOR   \n",
       "SQ_CANDIDATO                              130001139459   \n",
       "NM_CANDIDATO             ELIETE APARECIDA SILVA SANTOS   \n",
       "NM_URNA_CANDIDATO                               ELIETE   \n",
       "SG_PARTIDO                                         DEM   \n",
       "NR_IDADE_DATA_POSSE                                 54   \n",
       "DS_GENERO                                     FEMININO   \n",
       "DS_GRAU_INSTRUCAO        ENSINO FUNDAMENTAL INCOMPLETO   \n",
       "DS_COR_RACA                                      PRETA   \n",
       "DS_OCUPACAO                    CABELEIREIRO E BARBEIRO   \n",
       "VR_DESPESA_MAX_CAMPANHA                          12308   \n",
       "\n",
       "                                                     1  \\\n",
       "NM_UE                                ALVORADA DE MINAS   \n",
       "DS_CARGO                                      VEREADOR   \n",
       "SQ_CANDIDATO                              130001057396   \n",
       "NM_CANDIDATO                       SIMONE PIRES SIMOES   \n",
       "NM_URNA_CANDIDATO                         SIMONE PIRES   \n",
       "SG_PARTIDO                                          PV   \n",
       "NR_IDADE_DATA_POSSE                                 43   \n",
       "DS_GENERO                                     FEMININO   \n",
       "DS_GRAU_INSTRUCAO        ENSINO FUNDAMENTAL INCOMPLETO   \n",
       "DS_COR_RACA                                      PRETA   \n",
       "DS_OCUPACAO                               DONA DE CASA   \n",
       "VR_DESPESA_MAX_CAMPANHA                          12308   \n",
       "\n",
       "                                                   2  \n",
       "NM_UE                                     BUENÓPOLIS  \n",
       "DS_CARGO                                    VEREADOR  \n",
       "SQ_CANDIDATO                            130001242117  \n",
       "NM_CANDIDATO               WANDERSON MARCOS VIVEIROS  \n",
       "NM_URNA_CANDIDATO                 WANDERSON GESSEIRO  \n",
       "SG_PARTIDO                                        PL  \n",
       "NR_IDADE_DATA_POSSE                               42  \n",
       "DS_GENERO                                  MASCULINO  \n",
       "DS_GRAU_INSTRUCAO        ENSINO FUNDAMENTAL COMPLETO  \n",
       "DS_COR_RACA                                    PARDA  \n",
       "DS_OCUPACAO                                   OUTROS  \n",
       "VR_DESPESA_MAX_CAMPANHA                        12308  "
      ]
     },
     "execution_count": 6,
     "metadata": {},
     "output_type": "execute_result"
    }
   ],
   "source": [
    "df.head(3).T"
   ]
  },
  {
   "cell_type": "code",
   "execution_count": 7,
   "metadata": {},
   "outputs": [],
   "source": [
    "# Elimando as linhas duplicadas\n",
    "df.drop_duplicates(keep='last', inplace=True)"
   ]
  },
  {
   "cell_type": "code",
   "execution_count": 8,
   "metadata": {},
   "outputs": [],
   "source": [
    "# Lendo e juntando com o csv dos bens dos candidatos - disponível em https://bit.ly/3lnh6Ge\n",
    "\n",
    "bens_cand = pd.read_csv('C:/Users/Mayra/Documents/Faculdade/data-analysis-eleicoes/dados_cand_2020/bem_candidato_2020_BRASIL.csv', \n",
    "                        encoding='latin-1', index_col=None, low_memory=False, error_bad_lines=False, decimal=',',\n",
    "                        sep=';', quotechar='\"', usecols=['SG_UF', 'SG_UE','SQ_CANDIDATO','DS_BEM_CANDIDATO','VR_BEM_CANDIDATO'])"
   ]
  },
  {
   "cell_type": "code",
   "execution_count": 9,
   "metadata": {},
   "outputs": [
    {
     "data": {
      "text/html": [
       "<div>\n",
       "<style scoped>\n",
       "    .dataframe tbody tr th:only-of-type {\n",
       "        vertical-align: middle;\n",
       "    }\n",
       "\n",
       "    .dataframe tbody tr th {\n",
       "        vertical-align: top;\n",
       "    }\n",
       "\n",
       "    .dataframe thead th {\n",
       "        text-align: right;\n",
       "    }\n",
       "</style>\n",
       "<table border=\"1\" class=\"dataframe\">\n",
       "  <thead>\n",
       "    <tr style=\"text-align: right;\">\n",
       "      <th></th>\n",
       "      <th>SG_UF</th>\n",
       "      <th>SG_UE</th>\n",
       "      <th>SQ_CANDIDATO</th>\n",
       "      <th>DS_BEM_CANDIDATO</th>\n",
       "      <th>VR_BEM_CANDIDATO</th>\n",
       "    </tr>\n",
       "  </thead>\n",
       "  <tbody>\n",
       "    <tr>\n",
       "      <th>0</th>\n",
       "      <td>GO</td>\n",
       "      <td>96059</td>\n",
       "      <td>90000791563</td>\n",
       "      <td>UM LOTE DE TERRENO LOCALIZADO AV MINAS GERAIS ...</td>\n",
       "      <td>5000.0</td>\n",
       "    </tr>\n",
       "    <tr>\n",
       "      <th>1</th>\n",
       "      <td>PR</td>\n",
       "      <td>74446</td>\n",
       "      <td>160000996056</td>\n",
       "      <td>LOCALIZADO NA RUA ANTONIO SIQUEIRA VIDAL</td>\n",
       "      <td>700000.0</td>\n",
       "    </tr>\n",
       "    <tr>\n",
       "      <th>2</th>\n",
       "      <td>CE</td>\n",
       "      <td>15873</td>\n",
       "      <td>60000979523</td>\n",
       "      <td>BANCO DO BRASIL</td>\n",
       "      <td>3000.0</td>\n",
       "    </tr>\n",
       "    <tr>\n",
       "      <th>3</th>\n",
       "      <td>BA</td>\n",
       "      <td>35696</td>\n",
       "      <td>50000792280</td>\n",
       "      <td>2,5  HECTARES FAZENDA CAPÃO</td>\n",
       "      <td>30000.0</td>\n",
       "    </tr>\n",
       "    <tr>\n",
       "      <th>4</th>\n",
       "      <td>RS</td>\n",
       "      <td>85413</td>\n",
       "      <td>210000783855</td>\n",
       "      <td>TERRENO</td>\n",
       "      <td>550000.0</td>\n",
       "    </tr>\n",
       "  </tbody>\n",
       "</table>\n",
       "</div>"
      ],
      "text/plain": [
       "  SG_UF  SG_UE  SQ_CANDIDATO  \\\n",
       "0    GO  96059   90000791563   \n",
       "1    PR  74446  160000996056   \n",
       "2    CE  15873   60000979523   \n",
       "3    BA  35696   50000792280   \n",
       "4    RS  85413  210000783855   \n",
       "\n",
       "                                    DS_BEM_CANDIDATO  VR_BEM_CANDIDATO  \n",
       "0  UM LOTE DE TERRENO LOCALIZADO AV MINAS GERAIS ...            5000.0  \n",
       "1           LOCALIZADO NA RUA ANTONIO SIQUEIRA VIDAL          700000.0  \n",
       "2                                    BANCO DO BRASIL            3000.0  \n",
       "3                       2,5  HECTARES FAZENDA CAPÃO            30000.0  \n",
       "4                                            TERRENO          550000.0  "
      ]
     },
     "execution_count": 9,
     "metadata": {},
     "output_type": "execute_result"
    }
   ],
   "source": [
    "bens_cand.head()"
   ]
  },
  {
   "cell_type": "code",
   "execution_count": 10,
   "metadata": {},
   "outputs": [],
   "source": [
    "bens_cand.columns = ['CODIGO_TSE' if x=='SG_UE' else x for x in bens_cand.columns] "
   ]
  },
  {
   "cell_type": "code",
   "execution_count": 11,
   "metadata": {},
   "outputs": [
    {
     "data": {
      "text/plain": [
       "SG_UF               0\n",
       "CODIGO_TSE          0\n",
       "SQ_CANDIDATO        0\n",
       "DS_BEM_CANDIDATO    0\n",
       "VR_BEM_CANDIDATO    0\n",
       "dtype: int64"
      ]
     },
     "execution_count": 11,
     "metadata": {},
     "output_type": "execute_result"
    }
   ],
   "source": [
    "bens_cand.isnull().sum()"
   ]
  },
  {
   "cell_type": "code",
   "execution_count": 12,
   "metadata": {},
   "outputs": [
    {
     "data": {
      "text/html": [
       "<div>\n",
       "<style scoped>\n",
       "    .dataframe tbody tr th:only-of-type {\n",
       "        vertical-align: middle;\n",
       "    }\n",
       "\n",
       "    .dataframe tbody tr th {\n",
       "        vertical-align: top;\n",
       "    }\n",
       "\n",
       "    .dataframe thead th {\n",
       "        text-align: right;\n",
       "    }\n",
       "</style>\n",
       "<table border=\"1\" class=\"dataframe\">\n",
       "  <thead>\n",
       "    <tr style=\"text-align: right;\">\n",
       "      <th></th>\n",
       "      <th>VR_BEM_CANDIDATO</th>\n",
       "    </tr>\n",
       "    <tr>\n",
       "      <th>SQ_CANDIDATO</th>\n",
       "      <th></th>\n",
       "    </tr>\n",
       "  </thead>\n",
       "  <tbody>\n",
       "    <tr>\n",
       "      <th>10000641345</th>\n",
       "      <td>319500.00</td>\n",
       "    </tr>\n",
       "    <tr>\n",
       "      <th>10000641349</th>\n",
       "      <td>179000.00</td>\n",
       "    </tr>\n",
       "    <tr>\n",
       "      <th>10000641351</th>\n",
       "      <td>7000.00</td>\n",
       "    </tr>\n",
       "    <tr>\n",
       "      <th>10000641352</th>\n",
       "      <td>150000.00</td>\n",
       "    </tr>\n",
       "    <tr>\n",
       "      <th>10000641353</th>\n",
       "      <td>150000.00</td>\n",
       "    </tr>\n",
       "    <tr>\n",
       "      <th>...</th>\n",
       "      <td>...</td>\n",
       "    </tr>\n",
       "    <tr>\n",
       "      <th>270001267882</th>\n",
       "      <td>110000.00</td>\n",
       "    </tr>\n",
       "    <tr>\n",
       "      <th>270001267915</th>\n",
       "      <td>20000.00</td>\n",
       "    </tr>\n",
       "    <tr>\n",
       "      <th>270001267986</th>\n",
       "      <td>12200.00</td>\n",
       "    </tr>\n",
       "    <tr>\n",
       "      <th>270001268005</th>\n",
       "      <td>80376.54</td>\n",
       "    </tr>\n",
       "    <tr>\n",
       "      <th>270001268098</th>\n",
       "      <td>305000.00</td>\n",
       "    </tr>\n",
       "  </tbody>\n",
       "</table>\n",
       "<p>338803 rows × 1 columns</p>\n",
       "</div>"
      ],
      "text/plain": [
       "              VR_BEM_CANDIDATO\n",
       "SQ_CANDIDATO                  \n",
       "10000641345          319500.00\n",
       "10000641349          179000.00\n",
       "10000641351            7000.00\n",
       "10000641352          150000.00\n",
       "10000641353          150000.00\n",
       "...                        ...\n",
       "270001267882         110000.00\n",
       "270001267915          20000.00\n",
       "270001267986          12200.00\n",
       "270001268005          80376.54\n",
       "270001268098         305000.00\n",
       "\n",
       "[338803 rows x 1 columns]"
      ]
     },
     "execution_count": 12,
     "metadata": {},
     "output_type": "execute_result"
    }
   ],
   "source": [
    "# Somando o total de bens por candidato \n",
    "df_bens = pd.pivot_table(bens_cand,index=['SQ_CANDIDATO'],aggfunc={'VR_BEM_CANDIDATO':np.sum})\n",
    "df_bens"
   ]
  },
  {
   "cell_type": "code",
   "execution_count": 13,
   "metadata": {},
   "outputs": [
    {
     "data": {
      "text/html": [
       "<div>\n",
       "<style scoped>\n",
       "    .dataframe tbody tr th:only-of-type {\n",
       "        vertical-align: middle;\n",
       "    }\n",
       "\n",
       "    .dataframe tbody tr th {\n",
       "        vertical-align: top;\n",
       "    }\n",
       "\n",
       "    .dataframe thead th {\n",
       "        text-align: right;\n",
       "    }\n",
       "</style>\n",
       "<table border=\"1\" class=\"dataframe\">\n",
       "  <thead>\n",
       "    <tr style=\"text-align: right;\">\n",
       "      <th></th>\n",
       "      <th>0</th>\n",
       "      <th>1</th>\n",
       "      <th>2</th>\n",
       "    </tr>\n",
       "  </thead>\n",
       "  <tbody>\n",
       "    <tr>\n",
       "      <th>NM_UE</th>\n",
       "      <td>ITAÚ DE MINAS</td>\n",
       "      <td>ALVORADA DE MINAS</td>\n",
       "      <td>BUENÓPOLIS</td>\n",
       "    </tr>\n",
       "    <tr>\n",
       "      <th>DS_CARGO</th>\n",
       "      <td>VEREADOR</td>\n",
       "      <td>VEREADOR</td>\n",
       "      <td>VEREADOR</td>\n",
       "    </tr>\n",
       "    <tr>\n",
       "      <th>SQ_CANDIDATO</th>\n",
       "      <td>130001139459</td>\n",
       "      <td>130001057396</td>\n",
       "      <td>130001242117</td>\n",
       "    </tr>\n",
       "    <tr>\n",
       "      <th>NM_CANDIDATO</th>\n",
       "      <td>ELIETE APARECIDA SILVA SANTOS</td>\n",
       "      <td>SIMONE PIRES SIMOES</td>\n",
       "      <td>WANDERSON MARCOS VIVEIROS</td>\n",
       "    </tr>\n",
       "    <tr>\n",
       "      <th>NM_URNA_CANDIDATO</th>\n",
       "      <td>ELIETE</td>\n",
       "      <td>SIMONE PIRES</td>\n",
       "      <td>WANDERSON GESSEIRO</td>\n",
       "    </tr>\n",
       "    <tr>\n",
       "      <th>SG_PARTIDO</th>\n",
       "      <td>DEM</td>\n",
       "      <td>PV</td>\n",
       "      <td>PL</td>\n",
       "    </tr>\n",
       "    <tr>\n",
       "      <th>NR_IDADE_DATA_POSSE</th>\n",
       "      <td>54</td>\n",
       "      <td>43</td>\n",
       "      <td>42</td>\n",
       "    </tr>\n",
       "    <tr>\n",
       "      <th>DS_GENERO</th>\n",
       "      <td>FEMININO</td>\n",
       "      <td>FEMININO</td>\n",
       "      <td>MASCULINO</td>\n",
       "    </tr>\n",
       "    <tr>\n",
       "      <th>DS_GRAU_INSTRUCAO</th>\n",
       "      <td>ENSINO FUNDAMENTAL INCOMPLETO</td>\n",
       "      <td>ENSINO FUNDAMENTAL INCOMPLETO</td>\n",
       "      <td>ENSINO FUNDAMENTAL COMPLETO</td>\n",
       "    </tr>\n",
       "    <tr>\n",
       "      <th>DS_COR_RACA</th>\n",
       "      <td>PRETA</td>\n",
       "      <td>PRETA</td>\n",
       "      <td>PARDA</td>\n",
       "    </tr>\n",
       "    <tr>\n",
       "      <th>DS_OCUPACAO</th>\n",
       "      <td>CABELEIREIRO E BARBEIRO</td>\n",
       "      <td>DONA DE CASA</td>\n",
       "      <td>OUTROS</td>\n",
       "    </tr>\n",
       "    <tr>\n",
       "      <th>VR_DESPESA_MAX_CAMPANHA</th>\n",
       "      <td>12308</td>\n",
       "      <td>12308</td>\n",
       "      <td>12308</td>\n",
       "    </tr>\n",
       "    <tr>\n",
       "      <th>VR_BEM_CANDIDATO</th>\n",
       "      <td>95000</td>\n",
       "      <td>71000</td>\n",
       "      <td>NaN</td>\n",
       "    </tr>\n",
       "  </tbody>\n",
       "</table>\n",
       "</div>"
      ],
      "text/plain": [
       "                                                     0  \\\n",
       "NM_UE                                    ITAÚ DE MINAS   \n",
       "DS_CARGO                                      VEREADOR   \n",
       "SQ_CANDIDATO                              130001139459   \n",
       "NM_CANDIDATO             ELIETE APARECIDA SILVA SANTOS   \n",
       "NM_URNA_CANDIDATO                               ELIETE   \n",
       "SG_PARTIDO                                         DEM   \n",
       "NR_IDADE_DATA_POSSE                                 54   \n",
       "DS_GENERO                                     FEMININO   \n",
       "DS_GRAU_INSTRUCAO        ENSINO FUNDAMENTAL INCOMPLETO   \n",
       "DS_COR_RACA                                      PRETA   \n",
       "DS_OCUPACAO                    CABELEIREIRO E BARBEIRO   \n",
       "VR_DESPESA_MAX_CAMPANHA                          12308   \n",
       "VR_BEM_CANDIDATO                                 95000   \n",
       "\n",
       "                                                     1  \\\n",
       "NM_UE                                ALVORADA DE MINAS   \n",
       "DS_CARGO                                      VEREADOR   \n",
       "SQ_CANDIDATO                              130001057396   \n",
       "NM_CANDIDATO                       SIMONE PIRES SIMOES   \n",
       "NM_URNA_CANDIDATO                         SIMONE PIRES   \n",
       "SG_PARTIDO                                          PV   \n",
       "NR_IDADE_DATA_POSSE                                 43   \n",
       "DS_GENERO                                     FEMININO   \n",
       "DS_GRAU_INSTRUCAO        ENSINO FUNDAMENTAL INCOMPLETO   \n",
       "DS_COR_RACA                                      PRETA   \n",
       "DS_OCUPACAO                               DONA DE CASA   \n",
       "VR_DESPESA_MAX_CAMPANHA                          12308   \n",
       "VR_BEM_CANDIDATO                                 71000   \n",
       "\n",
       "                                                   2  \n",
       "NM_UE                                     BUENÓPOLIS  \n",
       "DS_CARGO                                    VEREADOR  \n",
       "SQ_CANDIDATO                            130001242117  \n",
       "NM_CANDIDATO               WANDERSON MARCOS VIVEIROS  \n",
       "NM_URNA_CANDIDATO                 WANDERSON GESSEIRO  \n",
       "SG_PARTIDO                                        PL  \n",
       "NR_IDADE_DATA_POSSE                               42  \n",
       "DS_GENERO                                  MASCULINO  \n",
       "DS_GRAU_INSTRUCAO        ENSINO FUNDAMENTAL COMPLETO  \n",
       "DS_COR_RACA                                    PARDA  \n",
       "DS_OCUPACAO                                   OUTROS  \n",
       "VR_DESPESA_MAX_CAMPANHA                        12308  \n",
       "VR_BEM_CANDIDATO                                 NaN  "
      ]
     },
     "execution_count": 13,
     "metadata": {},
     "output_type": "execute_result"
    }
   ],
   "source": [
    "# Juntando as informações e criando a planilha final\n",
    "candidatos = df.merge(df_bens, on='SQ_CANDIDATO', how='left')\n",
    "candidatos.head(3).T"
   ]
  },
  {
   "cell_type": "code",
   "execution_count": 14,
   "metadata": {},
   "outputs": [
    {
     "data": {
      "text/plain": [
       "NM_UE                          0\n",
       "DS_CARGO                       0\n",
       "SQ_CANDIDATO                   0\n",
       "NM_CANDIDATO                   0\n",
       "NM_URNA_CANDIDATO              0\n",
       "SG_PARTIDO                     0\n",
       "NR_IDADE_DATA_POSSE            0\n",
       "DS_GENERO                      0\n",
       "DS_GRAU_INSTRUCAO              0\n",
       "DS_COR_RACA                    0\n",
       "DS_OCUPACAO                    0\n",
       "VR_DESPESA_MAX_CAMPANHA        0\n",
       "VR_BEM_CANDIDATO           26019\n",
       "dtype: int64"
      ]
     },
     "execution_count": 14,
     "metadata": {},
     "output_type": "execute_result"
    }
   ],
   "source": [
    "candidatos.isnull().sum()"
   ]
  },
  {
   "cell_type": "code",
   "execution_count": 15,
   "metadata": {},
   "outputs": [
    {
     "name": "stdout",
     "output_type": "stream",
     "text": [
      "<class 'pandas.core.frame.DataFrame'>\n",
      "Int64Index: 81439 entries, 0 to 81438\n",
      "Data columns (total 13 columns):\n",
      " #   Column                   Non-Null Count  Dtype  \n",
      "---  ------                   --------------  -----  \n",
      " 0   NM_UE                    81439 non-null  object \n",
      " 1   DS_CARGO                 81439 non-null  object \n",
      " 2   SQ_CANDIDATO             81439 non-null  int64  \n",
      " 3   NM_CANDIDATO             81439 non-null  object \n",
      " 4   NM_URNA_CANDIDATO        81439 non-null  object \n",
      " 5   SG_PARTIDO               81439 non-null  object \n",
      " 6   NR_IDADE_DATA_POSSE      81439 non-null  int64  \n",
      " 7   DS_GENERO                81439 non-null  object \n",
      " 8   DS_GRAU_INSTRUCAO        81439 non-null  object \n",
      " 9   DS_COR_RACA              81439 non-null  object \n",
      " 10  DS_OCUPACAO              81439 non-null  object \n",
      " 11  VR_DESPESA_MAX_CAMPANHA  81439 non-null  int64  \n",
      " 12  VR_BEM_CANDIDATO         55420 non-null  float64\n",
      "dtypes: float64(1), int64(3), object(9)\n",
      "memory usage: 8.7+ MB\n"
     ]
    }
   ],
   "source": [
    "candidatos.info()"
   ]
  },
  {
   "cell_type": "code",
   "execution_count": 16,
   "metadata": {},
   "outputs": [
    {
     "data": {
      "text/plain": [
       "81439"
      ]
     },
     "execution_count": 16,
     "metadata": {},
     "output_type": "execute_result"
    }
   ],
   "source": [
    "# Confirmando se o número de candidatos continua o mesmo\n",
    "candidatos['SQ_CANDIDATO'].nunique()"
   ]
  },
  {
   "cell_type": "code",
   "execution_count": 17,
   "metadata": {},
   "outputs": [
    {
     "data": {
      "text/plain": [
       "63"
      ]
     },
     "execution_count": 17,
     "metadata": {},
     "output_type": "execute_result"
    }
   ],
   "source": [
    "candidatos.query('NM_UE == \"SÃO THOMÉ DAS LETRAS\"')['SQ_CANDIDATO'].nunique()"
   ]
  },
  {
   "cell_type": "code",
   "execution_count": 18,
   "metadata": {},
   "outputs": [
    {
     "data": {
      "text/plain": [
       "MASCULINO    44\n",
       "FEMININO     19\n",
       "Name: DS_GENERO, dtype: int64"
      ]
     },
     "execution_count": 18,
     "metadata": {},
     "output_type": "execute_result"
    }
   ],
   "source": [
    "# Filtrando os candidatos por gênero\n",
    "candidatos.query('NM_UE == \"SÃO THOMÉ DAS LETRAS\"')['DS_GENERO'].value_counts().head()"
   ]
  },
  {
   "cell_type": "code",
   "execution_count": 19,
   "metadata": {},
   "outputs": [
    {
     "data": {
      "text/plain": [
       "<AxesSubplot:ylabel='DS_GENERO'>"
      ]
     },
     "execution_count": 19,
     "metadata": {},
     "output_type": "execute_result"
    },
    {
     "data": {
      "image/png": "[encoded data removed]",
      "text/plain": [
       "<Figure size 576x576 with 1 Axes>"
      ]
     },
     "metadata": {},
     "output_type": "display_data"
    }
   ],
   "source": [
    "plt.style.use(\"Solarize_Light2\")\n",
    "plt.style.use(\"seaborn-pastel\")\n",
    "candidatos.query('NM_UE == \"SÃO THOMÉ DAS LETRAS\"')['DS_GENERO'].value_counts().head().plot(kind='pie', figsize=(8, 8), autopct='%.2f', fontsize=12)"
   ]
  },
  {
   "cell_type": "code",
   "execution_count": 20,
   "metadata": {},
   "outputs": [
    {
     "data": {
      "text/plain": [
       "<AxesSubplot:ylabel='DS_GRAU_INSTRUCAO'>"
      ]
     },
     "execution_count": 20,
     "metadata": {},
     "output_type": "execute_result"
    },
    {
     "data": {
      "image/png": "[encoded data removed]",
      "text/plain": [
       "<Figure size 576x576 with 1 Axes>"
      ]
     },
     "metadata": {},
     "output_type": "display_data"
    }
   ],
   "source": [
    "candidatos.query('NM_UE == \"SÃO THOMÉ DAS LETRAS\"')['DS_GRAU_INSTRUCAO'].value_counts().head().plot(kind='pie', figsize=(8, 8), autopct='%.2f', fontsize=12)"
   ]
  },
  {
   "cell_type": "code",
   "execution_count": 21,
   "metadata": {},
   "outputs": [
    {
     "data": {
      "text/plain": [
       "DS_GENERO  DS_GRAU_INSTRUCAO            \n",
       "FEMININO   ENSINO MÉDIO COMPLETO             7\n",
       "           ENSINO FUNDAMENTAL INCOMPLETO     5\n",
       "           ENSINO FUNDAMENTAL COMPLETO       3\n",
       "           ENSINO MÉDIO INCOMPLETO           2\n",
       "           SUPERIOR COMPLETO                 2\n",
       "MASCULINO  ENSINO MÉDIO COMPLETO            18\n",
       "           ENSINO FUNDAMENTAL INCOMPLETO    13\n",
       "           SUPERIOR COMPLETO                 6\n",
       "           SUPERIOR INCOMPLETO               4\n",
       "           ENSINO FUNDAMENTAL COMPLETO       3\n",
       "Name: DS_GRAU_INSTRUCAO, dtype: int64"
      ]
     },
     "execution_count": 21,
     "metadata": {},
     "output_type": "execute_result"
    }
   ],
   "source": [
    "candidatos.query('NM_UE == \"SÃO THOMÉ DAS LETRAS\"').groupby(by='DS_GENERO')['DS_GRAU_INSTRUCAO'].value_counts()"
   ]
  },
  {
   "cell_type": "code",
   "execution_count": 22,
   "metadata": {},
   "outputs": [
    {
     "data": {
      "text/plain": [
       "<AxesSubplot:ylabel='DS_GENERO,DS_GRAU_INSTRUCAO'>"
      ]
     },
     "execution_count": 22,
     "metadata": {},
     "output_type": "execute_result"
    },
    {
     "data": {
      "image/png": "[encoded data removed]",
      "text/plain": [
       "<Figure size 1440x720 with 1 Axes>"
      ]
     },
     "metadata": {},
     "output_type": "display_data"
    }
   ],
   "source": [
    "plt.style.use(\"ggplot\")\n",
    "candidatos.query('NM_UE == \"SÃO THOMÉ DAS LETRAS\"').groupby(by='DS_GENERO')['DS_GRAU_INSTRUCAO'].value_counts().sort_values(ascending=True).plot(kind='barh')"
   ]
  },
  {
   "cell_type": "code",
   "execution_count": 23,
   "metadata": {},
   "outputs": [
    {
     "data": {
      "text/html": [
       "<div>\n",
       "<style scoped>\n",
       "    .dataframe tbody tr th:only-of-type {\n",
       "        vertical-align: middle;\n",
       "    }\n",
       "\n",
       "    .dataframe tbody tr th {\n",
       "        vertical-align: top;\n",
       "    }\n",
       "\n",
       "    .dataframe thead th {\n",
       "        text-align: right;\n",
       "    }\n",
       "</style>\n",
       "<table border=\"1\" class=\"dataframe\">\n",
       "  <thead>\n",
       "    <tr style=\"text-align: right;\">\n",
       "      <th></th>\n",
       "    </tr>\n",
       "    <tr>\n",
       "      <th>DS_OCUPACAO</th>\n",
       "    </tr>\n",
       "  </thead>\n",
       "  <tbody>\n",
       "    <tr>\n",
       "      <th>AGRICULTOR</th>\n",
       "    </tr>\n",
       "    <tr>\n",
       "      <th>ARTESÃO</th>\n",
       "    </tr>\n",
       "    <tr>\n",
       "      <th>ASSISTENTE SOCIAL</th>\n",
       "    </tr>\n",
       "    <tr>\n",
       "      <th>ASTRÔNOMO</th>\n",
       "    </tr>\n",
       "    <tr>\n",
       "      <th>ATENDENTE DE LANCHONETE E RESTAURANTE</th>\n",
       "    </tr>\n",
       "    <tr>\n",
       "      <th>COMERCIANTE</th>\n",
       "    </tr>\n",
       "    <tr>\n",
       "      <th>CONTADOR</th>\n",
       "    </tr>\n",
       "    <tr>\n",
       "      <th>DONA DE CASA</th>\n",
       "    </tr>\n",
       "    <tr>\n",
       "      <th>ELETRICISTA E ASSEMELHADOS</th>\n",
       "    </tr>\n",
       "    <tr>\n",
       "      <th>EMPRESÁRIO</th>\n",
       "    </tr>\n",
       "    <tr>\n",
       "      <th>ESTUDANTE, BOLSISTA, ESTAGIÁRIO E ASSEMELHADOS</th>\n",
       "    </tr>\n",
       "    <tr>\n",
       "      <th>FRENTISTA</th>\n",
       "    </tr>\n",
       "    <tr>\n",
       "      <th>GUIA DE TURISMO</th>\n",
       "    </tr>\n",
       "    <tr>\n",
       "      <th>MOTORISTA DE VEÍCULOS DE TRANSPORTE COLETIVO DE PASSAGEIROS</th>\n",
       "    </tr>\n",
       "    <tr>\n",
       "      <th>MOTORISTA DE VEÍCULOS DE TRANSPORTE DE CARGA</th>\n",
       "    </tr>\n",
       "    <tr>\n",
       "      <th>MOTORISTA PARTICULAR</th>\n",
       "    </tr>\n",
       "    <tr>\n",
       "      <th>OPERADOR DE APARELHOS DE PRODUÇÃO INDUSTRIAL</th>\n",
       "    </tr>\n",
       "    <tr>\n",
       "      <th>OUTROS</th>\n",
       "    </tr>\n",
       "    <tr>\n",
       "      <th>PRODUTOR AGROPECUÁRIO</th>\n",
       "    </tr>\n",
       "    <tr>\n",
       "      <th>PROFESSOR DE ENSINO FUNDAMENTAL</th>\n",
       "    </tr>\n",
       "    <tr>\n",
       "      <th>TAXISTA</th>\n",
       "    </tr>\n",
       "    <tr>\n",
       "      <th>TERAPEUTA</th>\n",
       "    </tr>\n",
       "    <tr>\n",
       "      <th>TRABALHADOR DE MINAS E PEDREIRAS, SONDADOR E ASSEMELHADOS</th>\n",
       "    </tr>\n",
       "    <tr>\n",
       "      <th>VEREADOR</th>\n",
       "    </tr>\n",
       "  </tbody>\n",
       "</table>\n",
       "</div>"
      ],
      "text/plain": [
       "Empty DataFrame\n",
       "Columns: []\n",
       "Index: [AGRICULTOR, ARTESÃO, ASSISTENTE SOCIAL, ASTRÔNOMO, ATENDENTE DE LANCHONETE E RESTAURANTE, COMERCIANTE, CONTADOR, DONA DE CASA, ELETRICISTA E ASSEMELHADOS, EMPRESÁRIO, ESTUDANTE, BOLSISTA, ESTAGIÁRIO E ASSEMELHADOS, FRENTISTA, GUIA DE TURISMO, MOTORISTA DE VEÍCULOS DE TRANSPORTE COLETIVO DE PASSAGEIROS, MOTORISTA DE VEÍCULOS DE TRANSPORTE DE CARGA, MOTORISTA PARTICULAR, OPERADOR DE APARELHOS DE PRODUÇÃO INDUSTRIAL, OUTROS, PRODUTOR AGROPECUÁRIO, PROFESSOR DE ENSINO FUNDAMENTAL, TAXISTA, TERAPEUTA, TRABALHADOR DE MINAS E PEDREIRAS, SONDADOR E ASSEMELHADOS, VEREADOR]"
      ]
     },
     "execution_count": 23,
     "metadata": {},
     "output_type": "execute_result"
    }
   ],
   "source": [
    "# Listando as profissões declaradas\n",
    "stl = candidatos.query('NM_UE == \"SÃO THOMÉ DAS LETRAS\"')\n",
    "profissao = stl[['DS_OCUPACAO']].drop_duplicates().sort_values('DS_OCUPACAO').set_index('DS_OCUPACAO')\n",
    "profissao.head(50)"
   ]
  },
  {
   "cell_type": "code",
   "execution_count": 24,
   "metadata": {},
   "outputs": [
    {
     "data": {
      "text/plain": [
       "<AxesSubplot:>"
      ]
     },
     "execution_count": 24,
     "metadata": {},
     "output_type": "execute_result"
    },
    {
     "data": {
      "image/png": "[encoded data removed]",
      "text/plain": [
       "<Figure size 1440x720 with 1 Axes>"
      ]
     },
     "metadata": {},
     "output_type": "display_data"
    }
   ],
   "source": [
    "candidatos.query('NM_UE == \"SÃO THOMÉ DAS LETRAS\"')['DS_OCUPACAO'].value_counts().head().plot(kind='barh')"
   ]
  },
  {
   "cell_type": "code",
   "execution_count": 25,
   "metadata": {},
   "outputs": [
    {
     "data": {
      "text/html": [
       "<div>\n",
       "<style scoped>\n",
       "    .dataframe tbody tr th:only-of-type {\n",
       "        vertical-align: middle;\n",
       "    }\n",
       "\n",
       "    .dataframe tbody tr th {\n",
       "        vertical-align: top;\n",
       "    }\n",
       "\n",
       "    .dataframe thead th {\n",
       "        text-align: right;\n",
       "    }\n",
       "</style>\n",
       "<table border=\"1\" class=\"dataframe\">\n",
       "  <thead>\n",
       "    <tr style=\"text-align: right;\">\n",
       "      <th></th>\n",
       "      <th>NM_UE</th>\n",
       "      <th>DS_CARGO</th>\n",
       "      <th>SQ_CANDIDATO</th>\n",
       "      <th>NM_CANDIDATO</th>\n",
       "      <th>NM_URNA_CANDIDATO</th>\n",
       "      <th>SG_PARTIDO</th>\n",
       "      <th>NR_IDADE_DATA_POSSE</th>\n",
       "      <th>DS_GENERO</th>\n",
       "      <th>DS_GRAU_INSTRUCAO</th>\n",
       "      <th>DS_COR_RACA</th>\n",
       "      <th>DS_OCUPACAO</th>\n",
       "      <th>VR_DESPESA_MAX_CAMPANHA</th>\n",
       "      <th>VR_BEM_CANDIDATO</th>\n",
       "    </tr>\n",
       "  </thead>\n",
       "  <tbody>\n",
       "    <tr>\n",
       "      <th>24410</th>\n",
       "      <td>SÃO THOMÉ DAS LETRAS</td>\n",
       "      <td>VEREADOR</td>\n",
       "      <td>130000678885</td>\n",
       "      <td>TAIANE NUNES DA SILVA</td>\n",
       "      <td>TAIANE NUNES</td>\n",
       "      <td>AVANTE</td>\n",
       "      <td>26</td>\n",
       "      <td>FEMININO</td>\n",
       "      <td>ENSINO MÉDIO INCOMPLETO</td>\n",
       "      <td>BRANCA</td>\n",
       "      <td>DONA DE CASA</td>\n",
       "      <td>12308</td>\n",
       "      <td>NaN</td>\n",
       "    </tr>\n",
       "    <tr>\n",
       "      <th>32436</th>\n",
       "      <td>SÃO THOMÉ DAS LETRAS</td>\n",
       "      <td>VEREADOR</td>\n",
       "      <td>130000780843</td>\n",
       "      <td>LUCIENE APARECIDA RIBEIRO</td>\n",
       "      <td>LUCIENE DO MELADO</td>\n",
       "      <td>MDB</td>\n",
       "      <td>42</td>\n",
       "      <td>FEMININO</td>\n",
       "      <td>ENSINO MÉDIO COMPLETO</td>\n",
       "      <td>BRANCA</td>\n",
       "      <td>DONA DE CASA</td>\n",
       "      <td>12308</td>\n",
       "      <td>1200.0</td>\n",
       "    </tr>\n",
       "    <tr>\n",
       "      <th>35166</th>\n",
       "      <td>SÃO THOMÉ DAS LETRAS</td>\n",
       "      <td>VEREADOR</td>\n",
       "      <td>130000678715</td>\n",
       "      <td>LADY DAIANA DOS SANTOS PINTO</td>\n",
       "      <td>DAIANA DOS SANTOS</td>\n",
       "      <td>PSD</td>\n",
       "      <td>31</td>\n",
       "      <td>FEMININO</td>\n",
       "      <td>ENSINO MÉDIO INCOMPLETO</td>\n",
       "      <td>PARDA</td>\n",
       "      <td>DONA DE CASA</td>\n",
       "      <td>12308</td>\n",
       "      <td>NaN</td>\n",
       "    </tr>\n",
       "    <tr>\n",
       "      <th>51039</th>\n",
       "      <td>SÃO THOMÉ DAS LETRAS</td>\n",
       "      <td>VEREADOR</td>\n",
       "      <td>130000678880</td>\n",
       "      <td>ERICA MOURA DA SILVA MEDEIROS</td>\n",
       "      <td>ERICA MEDEIROS</td>\n",
       "      <td>AVANTE</td>\n",
       "      <td>36</td>\n",
       "      <td>FEMININO</td>\n",
       "      <td>ENSINO MÉDIO COMPLETO</td>\n",
       "      <td>BRANCA</td>\n",
       "      <td>DONA DE CASA</td>\n",
       "      <td>12308</td>\n",
       "      <td>NaN</td>\n",
       "    </tr>\n",
       "    <tr>\n",
       "      <th>65220</th>\n",
       "      <td>SÃO THOMÉ DAS LETRAS</td>\n",
       "      <td>VEREADOR</td>\n",
       "      <td>130000780837</td>\n",
       "      <td>CHEILA MARGARIDA JORGE</td>\n",
       "      <td>CHEILA DO TONINHO DO JILÓ</td>\n",
       "      <td>MDB</td>\n",
       "      <td>41</td>\n",
       "      <td>FEMININO</td>\n",
       "      <td>ENSINO FUNDAMENTAL COMPLETO</td>\n",
       "      <td>PARDA</td>\n",
       "      <td>DONA DE CASA</td>\n",
       "      <td>12308</td>\n",
       "      <td>1500.0</td>\n",
       "    </tr>\n",
       "    <tr>\n",
       "      <th>72458</th>\n",
       "      <td>SÃO THOMÉ DAS LETRAS</td>\n",
       "      <td>VEREADOR</td>\n",
       "      <td>130000678719</td>\n",
       "      <td>NATALIA FRANCISCA LOURENÇO</td>\n",
       "      <td>NATALIA DO ZE BILOCA</td>\n",
       "      <td>PSD</td>\n",
       "      <td>31</td>\n",
       "      <td>FEMININO</td>\n",
       "      <td>ENSINO FUNDAMENTAL INCOMPLETO</td>\n",
       "      <td>PARDA</td>\n",
       "      <td>DONA DE CASA</td>\n",
       "      <td>12308</td>\n",
       "      <td>6000.0</td>\n",
       "    </tr>\n",
       "    <tr>\n",
       "      <th>76776</th>\n",
       "      <td>SÃO THOMÉ DAS LETRAS</td>\n",
       "      <td>VEREADOR</td>\n",
       "      <td>130000678712</td>\n",
       "      <td>MARILIA CONCEIÇAO DE ANDRADE FERNANDES</td>\n",
       "      <td>MARILIA ANDRADE</td>\n",
       "      <td>PSD</td>\n",
       "      <td>32</td>\n",
       "      <td>FEMININO</td>\n",
       "      <td>ENSINO MÉDIO COMPLETO</td>\n",
       "      <td>PARDA</td>\n",
       "      <td>DONA DE CASA</td>\n",
       "      <td>12308</td>\n",
       "      <td>6000.0</td>\n",
       "    </tr>\n",
       "  </tbody>\n",
       "</table>\n",
       "</div>"
      ],
      "text/plain": [
       "                      NM_UE  DS_CARGO  SQ_CANDIDATO  \\\n",
       "24410  SÃO THOMÉ DAS LETRAS  VEREADOR  130000678885   \n",
       "32436  SÃO THOMÉ DAS LETRAS  VEREADOR  130000780843   \n",
       "35166  SÃO THOMÉ DAS LETRAS  VEREADOR  130000678715   \n",
       "51039  SÃO THOMÉ DAS LETRAS  VEREADOR  130000678880   \n",
       "65220  SÃO THOMÉ DAS LETRAS  VEREADOR  130000780837   \n",
       "72458  SÃO THOMÉ DAS LETRAS  VEREADOR  130000678719   \n",
       "76776  SÃO THOMÉ DAS LETRAS  VEREADOR  130000678712   \n",
       "\n",
       "                                 NM_CANDIDATO          NM_URNA_CANDIDATO  \\\n",
       "24410                   TAIANE NUNES DA SILVA               TAIANE NUNES   \n",
       "32436               LUCIENE APARECIDA RIBEIRO         LUCIENE DO MELADO    \n",
       "35166            LADY DAIANA DOS SANTOS PINTO          DAIANA DOS SANTOS   \n",
       "51039           ERICA MOURA DA SILVA MEDEIROS             ERICA MEDEIROS   \n",
       "65220                  CHEILA MARGARIDA JORGE  CHEILA DO TONINHO DO JILÓ   \n",
       "72458              NATALIA FRANCISCA LOURENÇO       NATALIA DO ZE BILOCA   \n",
       "76776  MARILIA CONCEIÇAO DE ANDRADE FERNANDES            MARILIA ANDRADE   \n",
       "\n",
       "      SG_PARTIDO  NR_IDADE_DATA_POSSE DS_GENERO  \\\n",
       "24410     AVANTE                   26  FEMININO   \n",
       "32436        MDB                   42  FEMININO   \n",
       "35166        PSD                   31  FEMININO   \n",
       "51039     AVANTE                   36  FEMININO   \n",
       "65220        MDB                   41  FEMININO   \n",
       "72458        PSD                   31  FEMININO   \n",
       "76776        PSD                   32  FEMININO   \n",
       "\n",
       "                   DS_GRAU_INSTRUCAO DS_COR_RACA   DS_OCUPACAO  \\\n",
       "24410        ENSINO MÉDIO INCOMPLETO      BRANCA  DONA DE CASA   \n",
       "32436          ENSINO MÉDIO COMPLETO      BRANCA  DONA DE CASA   \n",
       "35166        ENSINO MÉDIO INCOMPLETO       PARDA  DONA DE CASA   \n",
       "51039          ENSINO MÉDIO COMPLETO      BRANCA  DONA DE CASA   \n",
       "65220    ENSINO FUNDAMENTAL COMPLETO       PARDA  DONA DE CASA   \n",
       "72458  ENSINO FUNDAMENTAL INCOMPLETO       PARDA  DONA DE CASA   \n",
       "76776          ENSINO MÉDIO COMPLETO       PARDA  DONA DE CASA   \n",
       "\n",
       "       VR_DESPESA_MAX_CAMPANHA  VR_BEM_CANDIDATO  \n",
       "24410                    12308               NaN  \n",
       "32436                    12308            1200.0  \n",
       "35166                    12308               NaN  \n",
       "51039                    12308               NaN  \n",
       "65220                    12308            1500.0  \n",
       "72458                    12308            6000.0  \n",
       "76776                    12308            6000.0  "
      ]
     },
     "execution_count": 25,
     "metadata": {},
     "output_type": "execute_result"
    }
   ],
   "source": [
    "# Listando os candidatos declarados como dona de casa\n",
    "donadecasa = stl[stl['DS_OCUPACAO'].str.contains('DONA DE CASA')]\n",
    "donadecasa"
   ]
  },
  {
   "cell_type": "code",
   "execution_count": 26,
   "metadata": {},
   "outputs": [
    {
     "data": {
      "text/html": [
       "<div>\n",
       "<style scoped>\n",
       "    .dataframe tbody tr th:only-of-type {\n",
       "        vertical-align: middle;\n",
       "    }\n",
       "\n",
       "    .dataframe tbody tr th {\n",
       "        vertical-align: top;\n",
       "    }\n",
       "\n",
       "    .dataframe thead th {\n",
       "        text-align: right;\n",
       "    }\n",
       "</style>\n",
       "<table border=\"1\" class=\"dataframe\">\n",
       "  <thead>\n",
       "    <tr style=\"text-align: right;\">\n",
       "      <th></th>\n",
       "      <th>NM_UE</th>\n",
       "      <th>DS_CARGO</th>\n",
       "      <th>SQ_CANDIDATO</th>\n",
       "      <th>NM_CANDIDATO</th>\n",
       "      <th>NM_URNA_CANDIDATO</th>\n",
       "      <th>SG_PARTIDO</th>\n",
       "      <th>NR_IDADE_DATA_POSSE</th>\n",
       "      <th>DS_GENERO</th>\n",
       "      <th>DS_GRAU_INSTRUCAO</th>\n",
       "      <th>DS_COR_RACA</th>\n",
       "      <th>DS_OCUPACAO</th>\n",
       "      <th>VR_DESPESA_MAX_CAMPANHA</th>\n",
       "      <th>VR_BEM_CANDIDATO</th>\n",
       "    </tr>\n",
       "  </thead>\n",
       "  <tbody>\n",
       "    <tr>\n",
       "      <th>5422</th>\n",
       "      <td>SÃO THOMÉ DAS LETRAS</td>\n",
       "      <td>PREFEITO</td>\n",
       "      <td>130001168523</td>\n",
       "      <td>JOSÉ GILBERTO PEREIRA</td>\n",
       "      <td>GILBERTO</td>\n",
       "      <td>PT</td>\n",
       "      <td>49</td>\n",
       "      <td>MASCULINO</td>\n",
       "      <td>ENSINO FUNDAMENTAL COMPLETO</td>\n",
       "      <td>BRANCA</td>\n",
       "      <td>EMPRESÁRIO</td>\n",
       "      <td>123077</td>\n",
       "      <td>780275.11</td>\n",
       "    </tr>\n",
       "    <tr>\n",
       "      <th>10454</th>\n",
       "      <td>SÃO THOMÉ DAS LETRAS</td>\n",
       "      <td>VEREADOR</td>\n",
       "      <td>130000782567</td>\n",
       "      <td>EVANDRO FRANCISCO DE OLIVEIRA</td>\n",
       "      <td>EVANDRO NENE</td>\n",
       "      <td>PV</td>\n",
       "      <td>48</td>\n",
       "      <td>MASCULINO</td>\n",
       "      <td>ENSINO FUNDAMENTAL COMPLETO</td>\n",
       "      <td>BRANCA</td>\n",
       "      <td>EMPRESÁRIO</td>\n",
       "      <td>12308</td>\n",
       "      <td>33000.00</td>\n",
       "    </tr>\n",
       "    <tr>\n",
       "      <th>20024</th>\n",
       "      <td>SÃO THOMÉ DAS LETRAS</td>\n",
       "      <td>PREFEITO</td>\n",
       "      <td>130000678684</td>\n",
       "      <td>DONIZETE FLAUZINO DA ROCHA</td>\n",
       "      <td>ZETE</td>\n",
       "      <td>PP</td>\n",
       "      <td>45</td>\n",
       "      <td>MASCULINO</td>\n",
       "      <td>SUPERIOR COMPLETO</td>\n",
       "      <td>BRANCA</td>\n",
       "      <td>EMPRESÁRIO</td>\n",
       "      <td>123077</td>\n",
       "      <td>1259000.00</td>\n",
       "    </tr>\n",
       "    <tr>\n",
       "      <th>42091</th>\n",
       "      <td>SÃO THOMÉ DAS LETRAS</td>\n",
       "      <td>VICE-PREFEITO</td>\n",
       "      <td>130001267814</td>\n",
       "      <td>JACKSON INÁCIO DE OLIVEIRA</td>\n",
       "      <td>JACKSON INÁCIO</td>\n",
       "      <td>PV</td>\n",
       "      <td>37</td>\n",
       "      <td>MASCULINO</td>\n",
       "      <td>ENSINO FUNDAMENTAL COMPLETO</td>\n",
       "      <td>BRANCA</td>\n",
       "      <td>EMPRESÁRIO</td>\n",
       "      <td>-1</td>\n",
       "      <td>NaN</td>\n",
       "    </tr>\n",
       "    <tr>\n",
       "      <th>59252</th>\n",
       "      <td>SÃO THOMÉ DAS LETRAS</td>\n",
       "      <td>VEREADOR</td>\n",
       "      <td>130000775887</td>\n",
       "      <td>DALTON RODRIGO DE SOUZA OLIVEIRA</td>\n",
       "      <td>DALTON</td>\n",
       "      <td>PT</td>\n",
       "      <td>37</td>\n",
       "      <td>MASCULINO</td>\n",
       "      <td>ENSINO MÉDIO COMPLETO</td>\n",
       "      <td>PARDA</td>\n",
       "      <td>EMPRESÁRIO</td>\n",
       "      <td>12308</td>\n",
       "      <td>NaN</td>\n",
       "    </tr>\n",
       "  </tbody>\n",
       "</table>\n",
       "</div>"
      ],
      "text/plain": [
       "                      NM_UE       DS_CARGO  SQ_CANDIDATO  \\\n",
       "5422   SÃO THOMÉ DAS LETRAS       PREFEITO  130001168523   \n",
       "10454  SÃO THOMÉ DAS LETRAS       VEREADOR  130000782567   \n",
       "20024  SÃO THOMÉ DAS LETRAS       PREFEITO  130000678684   \n",
       "42091  SÃO THOMÉ DAS LETRAS  VICE-PREFEITO  130001267814   \n",
       "59252  SÃO THOMÉ DAS LETRAS       VEREADOR  130000775887   \n",
       "\n",
       "                           NM_CANDIDATO NM_URNA_CANDIDATO SG_PARTIDO  \\\n",
       "5422              JOSÉ GILBERTO PEREIRA          GILBERTO         PT   \n",
       "10454     EVANDRO FRANCISCO DE OLIVEIRA      EVANDRO NENE         PV   \n",
       "20024        DONIZETE FLAUZINO DA ROCHA              ZETE         PP   \n",
       "42091        JACKSON INÁCIO DE OLIVEIRA    JACKSON INÁCIO         PV   \n",
       "59252  DALTON RODRIGO DE SOUZA OLIVEIRA            DALTON         PT   \n",
       "\n",
       "       NR_IDADE_DATA_POSSE  DS_GENERO            DS_GRAU_INSTRUCAO  \\\n",
       "5422                    49  MASCULINO  ENSINO FUNDAMENTAL COMPLETO   \n",
       "10454                   48  MASCULINO  ENSINO FUNDAMENTAL COMPLETO   \n",
       "20024                   45  MASCULINO            SUPERIOR COMPLETO   \n",
       "42091                   37  MASCULINO  ENSINO FUNDAMENTAL COMPLETO   \n",
       "59252                   37  MASCULINO        ENSINO MÉDIO COMPLETO   \n",
       "\n",
       "      DS_COR_RACA DS_OCUPACAO  VR_DESPESA_MAX_CAMPANHA  VR_BEM_CANDIDATO  \n",
       "5422       BRANCA  EMPRESÁRIO                   123077         780275.11  \n",
       "10454      BRANCA  EMPRESÁRIO                    12308          33000.00  \n",
       "20024      BRANCA  EMPRESÁRIO                   123077        1259000.00  \n",
       "42091      BRANCA  EMPRESÁRIO                       -1               NaN  \n",
       "59252       PARDA  EMPRESÁRIO                    12308               NaN  "
      ]
     },
     "execution_count": 26,
     "metadata": {},
     "output_type": "execute_result"
    }
   ],
   "source": [
    "# Listando os candidatos declarados como empresário\n",
    "empresario = stl[stl['DS_OCUPACAO'].str.contains('EMPRESÁRIO')]\n",
    "empresario"
   ]
  },
  {
   "cell_type": "code",
   "execution_count": 27,
   "metadata": {},
   "outputs": [
    {
     "data": {
      "text/html": [
       "<div>\n",
       "<style scoped>\n",
       "    .dataframe tbody tr th:only-of-type {\n",
       "        vertical-align: middle;\n",
       "    }\n",
       "\n",
       "    .dataframe tbody tr th {\n",
       "        vertical-align: top;\n",
       "    }\n",
       "\n",
       "    .dataframe thead th {\n",
       "        text-align: right;\n",
       "    }\n",
       "</style>\n",
       "<table border=\"1\" class=\"dataframe\">\n",
       "  <thead>\n",
       "    <tr style=\"text-align: right;\">\n",
       "      <th></th>\n",
       "      <th>NM_UE</th>\n",
       "      <th>DS_CARGO</th>\n",
       "      <th>SQ_CANDIDATO</th>\n",
       "      <th>NM_CANDIDATO</th>\n",
       "      <th>NM_URNA_CANDIDATO</th>\n",
       "      <th>SG_PARTIDO</th>\n",
       "      <th>NR_IDADE_DATA_POSSE</th>\n",
       "      <th>DS_GENERO</th>\n",
       "      <th>DS_GRAU_INSTRUCAO</th>\n",
       "      <th>DS_COR_RACA</th>\n",
       "      <th>DS_OCUPACAO</th>\n",
       "      <th>VR_DESPESA_MAX_CAMPANHA</th>\n",
       "      <th>VR_BEM_CANDIDATO</th>\n",
       "    </tr>\n",
       "  </thead>\n",
       "  <tbody>\n",
       "    <tr>\n",
       "      <th>4894</th>\n",
       "      <td>SÃO THOMÉ DAS LETRAS</td>\n",
       "      <td>VEREADOR</td>\n",
       "      <td>130000775885</td>\n",
       "      <td>ARIEL DE SOUZA MOREIRA</td>\n",
       "      <td>ARIEL</td>\n",
       "      <td>PT</td>\n",
       "      <td>36</td>\n",
       "      <td>MASCULINO</td>\n",
       "      <td>SUPERIOR COMPLETO</td>\n",
       "      <td>BRANCA</td>\n",
       "      <td>VEREADOR</td>\n",
       "      <td>12308</td>\n",
       "      <td>17000.00</td>\n",
       "    </tr>\n",
       "    <tr>\n",
       "      <th>32770</th>\n",
       "      <td>SÃO THOMÉ DAS LETRAS</td>\n",
       "      <td>VEREADOR</td>\n",
       "      <td>130000776091</td>\n",
       "      <td>JUNHO MANOEL GOMES</td>\n",
       "      <td>JUNHO</td>\n",
       "      <td>REPUBLICANOS</td>\n",
       "      <td>58</td>\n",
       "      <td>MASCULINO</td>\n",
       "      <td>SUPERIOR COMPLETO</td>\n",
       "      <td>BRANCA</td>\n",
       "      <td>VEREADOR</td>\n",
       "      <td>12308</td>\n",
       "      <td>286000.00</td>\n",
       "    </tr>\n",
       "    <tr>\n",
       "      <th>48070</th>\n",
       "      <td>SÃO THOMÉ DAS LETRAS</td>\n",
       "      <td>VEREADOR</td>\n",
       "      <td>130000775888</td>\n",
       "      <td>ALAN PATRIK DE ANDRADE</td>\n",
       "      <td>ALAN DO TONINHO DA MARTA</td>\n",
       "      <td>PT</td>\n",
       "      <td>34</td>\n",
       "      <td>MASCULINO</td>\n",
       "      <td>SUPERIOR INCOMPLETO</td>\n",
       "      <td>BRANCA</td>\n",
       "      <td>VEREADOR</td>\n",
       "      <td>12308</td>\n",
       "      <td>16000.00</td>\n",
       "    </tr>\n",
       "    <tr>\n",
       "      <th>68250</th>\n",
       "      <td>SÃO THOMÉ DAS LETRAS</td>\n",
       "      <td>VEREADOR</td>\n",
       "      <td>130000780838</td>\n",
       "      <td>SILVIO CARDOSO</td>\n",
       "      <td>SILVIO DO GENICO</td>\n",
       "      <td>MDB</td>\n",
       "      <td>50</td>\n",
       "      <td>MASCULINO</td>\n",
       "      <td>ENSINO MÉDIO COMPLETO</td>\n",
       "      <td>BRANCA</td>\n",
       "      <td>VEREADOR</td>\n",
       "      <td>12308</td>\n",
       "      <td>10252.13</td>\n",
       "    </tr>\n",
       "  </tbody>\n",
       "</table>\n",
       "</div>"
      ],
      "text/plain": [
       "                      NM_UE  DS_CARGO  SQ_CANDIDATO            NM_CANDIDATO  \\\n",
       "4894   SÃO THOMÉ DAS LETRAS  VEREADOR  130000775885  ARIEL DE SOUZA MOREIRA   \n",
       "32770  SÃO THOMÉ DAS LETRAS  VEREADOR  130000776091      JUNHO MANOEL GOMES   \n",
       "48070  SÃO THOMÉ DAS LETRAS  VEREADOR  130000775888  ALAN PATRIK DE ANDRADE   \n",
       "68250  SÃO THOMÉ DAS LETRAS  VEREADOR  130000780838          SILVIO CARDOSO   \n",
       "\n",
       "              NM_URNA_CANDIDATO    SG_PARTIDO  NR_IDADE_DATA_POSSE  DS_GENERO  \\\n",
       "4894                      ARIEL            PT                   36  MASCULINO   \n",
       "32770                     JUNHO  REPUBLICANOS                   58  MASCULINO   \n",
       "48070  ALAN DO TONINHO DA MARTA            PT                   34  MASCULINO   \n",
       "68250          SILVIO DO GENICO           MDB                   50  MASCULINO   \n",
       "\n",
       "           DS_GRAU_INSTRUCAO DS_COR_RACA DS_OCUPACAO  VR_DESPESA_MAX_CAMPANHA  \\\n",
       "4894       SUPERIOR COMPLETO      BRANCA    VEREADOR                    12308   \n",
       "32770      SUPERIOR COMPLETO      BRANCA    VEREADOR                    12308   \n",
       "48070    SUPERIOR INCOMPLETO      BRANCA    VEREADOR                    12308   \n",
       "68250  ENSINO MÉDIO COMPLETO      BRANCA    VEREADOR                    12308   \n",
       "\n",
       "       VR_BEM_CANDIDATO  \n",
       "4894           17000.00  \n",
       "32770         286000.00  \n",
       "48070          16000.00  \n",
       "68250          10252.13  "
      ]
     },
     "execution_count": 27,
     "metadata": {},
     "output_type": "execute_result"
    }
   ],
   "source": [
    "# Listando os candidatos declarados como vereador\n",
    "vereador = stl[stl['DS_OCUPACAO'].str.contains('VEREADOR')]\n",
    "vereador"
   ]
  },
  {
   "cell_type": "code",
   "execution_count": 28,
   "metadata": {},
   "outputs": [],
   "source": [
    "# Fazendo recortes desses grupos, para comparar os bens declarados de cada um deles\n",
    "cand_donadecasa = stl[stl['DS_OCUPACAO'] == 'DONA DE CASA']\n",
    "cand_empresarios = stl[stl['DS_OCUPACAO'] == 'EMPRESÁRIO']\n",
    "cand_vereador = stl[stl['DS_OCUPACAO'] == 'VEREADOR']"
   ]
  },
  {
   "cell_type": "code",
   "execution_count": 29,
   "metadata": {},
   "outputs": [
    {
     "data": {
      "text/plain": [
       "6000.0"
      ]
     },
     "execution_count": 29,
     "metadata": {},
     "output_type": "execute_result"
    }
   ],
   "source": [
    "cand_donadecasa['VR_BEM_CANDIDATO'].max()"
   ]
  },
  {
   "cell_type": "code",
   "execution_count": 30,
   "metadata": {},
   "outputs": [
    {
     "data": {
      "text/html": [
       "<div>\n",
       "<style scoped>\n",
       "    .dataframe tbody tr th:only-of-type {\n",
       "        vertical-align: middle;\n",
       "    }\n",
       "\n",
       "    .dataframe tbody tr th {\n",
       "        vertical-align: top;\n",
       "    }\n",
       "\n",
       "    .dataframe thead th {\n",
       "        text-align: right;\n",
       "    }\n",
       "</style>\n",
       "<table border=\"1\" class=\"dataframe\">\n",
       "  <thead>\n",
       "    <tr style=\"text-align: right;\">\n",
       "      <th></th>\n",
       "      <th>NM_UE</th>\n",
       "      <th>DS_CARGO</th>\n",
       "      <th>SQ_CANDIDATO</th>\n",
       "      <th>NM_CANDIDATO</th>\n",
       "      <th>NM_URNA_CANDIDATO</th>\n",
       "      <th>SG_PARTIDO</th>\n",
       "      <th>NR_IDADE_DATA_POSSE</th>\n",
       "      <th>DS_GENERO</th>\n",
       "      <th>DS_GRAU_INSTRUCAO</th>\n",
       "      <th>DS_COR_RACA</th>\n",
       "      <th>DS_OCUPACAO</th>\n",
       "      <th>VR_DESPESA_MAX_CAMPANHA</th>\n",
       "      <th>VR_BEM_CANDIDATO</th>\n",
       "    </tr>\n",
       "  </thead>\n",
       "  <tbody>\n",
       "    <tr>\n",
       "      <th>72458</th>\n",
       "      <td>SÃO THOMÉ DAS LETRAS</td>\n",
       "      <td>VEREADOR</td>\n",
       "      <td>130000678719</td>\n",
       "      <td>NATALIA FRANCISCA LOURENÇO</td>\n",
       "      <td>NATALIA DO ZE BILOCA</td>\n",
       "      <td>PSD</td>\n",
       "      <td>31</td>\n",
       "      <td>FEMININO</td>\n",
       "      <td>ENSINO FUNDAMENTAL INCOMPLETO</td>\n",
       "      <td>PARDA</td>\n",
       "      <td>DONA DE CASA</td>\n",
       "      <td>12308</td>\n",
       "      <td>6000.0</td>\n",
       "    </tr>\n",
       "    <tr>\n",
       "      <th>76776</th>\n",
       "      <td>SÃO THOMÉ DAS LETRAS</td>\n",
       "      <td>VEREADOR</td>\n",
       "      <td>130000678712</td>\n",
       "      <td>MARILIA CONCEIÇAO DE ANDRADE FERNANDES</td>\n",
       "      <td>MARILIA ANDRADE</td>\n",
       "      <td>PSD</td>\n",
       "      <td>32</td>\n",
       "      <td>FEMININO</td>\n",
       "      <td>ENSINO MÉDIO COMPLETO</td>\n",
       "      <td>PARDA</td>\n",
       "      <td>DONA DE CASA</td>\n",
       "      <td>12308</td>\n",
       "      <td>6000.0</td>\n",
       "    </tr>\n",
       "  </tbody>\n",
       "</table>\n",
       "</div>"
      ],
      "text/plain": [
       "                      NM_UE  DS_CARGO  SQ_CANDIDATO  \\\n",
       "72458  SÃO THOMÉ DAS LETRAS  VEREADOR  130000678719   \n",
       "76776  SÃO THOMÉ DAS LETRAS  VEREADOR  130000678712   \n",
       "\n",
       "                                 NM_CANDIDATO     NM_URNA_CANDIDATO  \\\n",
       "72458              NATALIA FRANCISCA LOURENÇO  NATALIA DO ZE BILOCA   \n",
       "76776  MARILIA CONCEIÇAO DE ANDRADE FERNANDES       MARILIA ANDRADE   \n",
       "\n",
       "      SG_PARTIDO  NR_IDADE_DATA_POSSE DS_GENERO  \\\n",
       "72458        PSD                   31  FEMININO   \n",
       "76776        PSD                   32  FEMININO   \n",
       "\n",
       "                   DS_GRAU_INSTRUCAO DS_COR_RACA   DS_OCUPACAO  \\\n",
       "72458  ENSINO FUNDAMENTAL INCOMPLETO       PARDA  DONA DE CASA   \n",
       "76776          ENSINO MÉDIO COMPLETO       PARDA  DONA DE CASA   \n",
       "\n",
       "       VR_DESPESA_MAX_CAMPANHA  VR_BEM_CANDIDATO  \n",
       "72458                    12308            6000.0  \n",
       "76776                    12308            6000.0  "
      ]
     },
     "execution_count": 30,
     "metadata": {},
     "output_type": "execute_result"
    }
   ],
   "source": [
    "#Identificando as donas de cada com maior valor de bens declarados\n",
    "cand_donadecasa[cand_donadecasa['VR_BEM_CANDIDATO'] == 6000.0]"
   ]
  },
  {
   "cell_type": "code",
   "execution_count": 31,
   "metadata": {},
   "outputs": [
    {
     "data": {
      "text/plain": [
       "1259000.0"
      ]
     },
     "execution_count": 31,
     "metadata": {},
     "output_type": "execute_result"
    }
   ],
   "source": [
    "cand_empresarios['VR_BEM_CANDIDATO'].max()"
   ]
  },
  {
   "cell_type": "code",
   "execution_count": 32,
   "metadata": {},
   "outputs": [
    {
     "data": {
      "text/html": [
       "<div>\n",
       "<style scoped>\n",
       "    .dataframe tbody tr th:only-of-type {\n",
       "        vertical-align: middle;\n",
       "    }\n",
       "\n",
       "    .dataframe tbody tr th {\n",
       "        vertical-align: top;\n",
       "    }\n",
       "\n",
       "    .dataframe thead th {\n",
       "        text-align: right;\n",
       "    }\n",
       "</style>\n",
       "<table border=\"1\" class=\"dataframe\">\n",
       "  <thead>\n",
       "    <tr style=\"text-align: right;\">\n",
       "      <th></th>\n",
       "      <th>NM_UE</th>\n",
       "      <th>DS_CARGO</th>\n",
       "      <th>SQ_CANDIDATO</th>\n",
       "      <th>NM_CANDIDATO</th>\n",
       "      <th>NM_URNA_CANDIDATO</th>\n",
       "      <th>SG_PARTIDO</th>\n",
       "      <th>NR_IDADE_DATA_POSSE</th>\n",
       "      <th>DS_GENERO</th>\n",
       "      <th>DS_GRAU_INSTRUCAO</th>\n",
       "      <th>DS_COR_RACA</th>\n",
       "      <th>DS_OCUPACAO</th>\n",
       "      <th>VR_DESPESA_MAX_CAMPANHA</th>\n",
       "      <th>VR_BEM_CANDIDATO</th>\n",
       "    </tr>\n",
       "  </thead>\n",
       "  <tbody>\n",
       "    <tr>\n",
       "      <th>20024</th>\n",
       "      <td>SÃO THOMÉ DAS LETRAS</td>\n",
       "      <td>PREFEITO</td>\n",
       "      <td>130000678684</td>\n",
       "      <td>DONIZETE FLAUZINO DA ROCHA</td>\n",
       "      <td>ZETE</td>\n",
       "      <td>PP</td>\n",
       "      <td>45</td>\n",
       "      <td>MASCULINO</td>\n",
       "      <td>SUPERIOR COMPLETO</td>\n",
       "      <td>BRANCA</td>\n",
       "      <td>EMPRESÁRIO</td>\n",
       "      <td>123077</td>\n",
       "      <td>1259000.0</td>\n",
       "    </tr>\n",
       "  </tbody>\n",
       "</table>\n",
       "</div>"
      ],
      "text/plain": [
       "                      NM_UE  DS_CARGO  SQ_CANDIDATO  \\\n",
       "20024  SÃO THOMÉ DAS LETRAS  PREFEITO  130000678684   \n",
       "\n",
       "                     NM_CANDIDATO NM_URNA_CANDIDATO SG_PARTIDO  \\\n",
       "20024  DONIZETE FLAUZINO DA ROCHA              ZETE         PP   \n",
       "\n",
       "       NR_IDADE_DATA_POSSE  DS_GENERO  DS_GRAU_INSTRUCAO DS_COR_RACA  \\\n",
       "20024                   45  MASCULINO  SUPERIOR COMPLETO      BRANCA   \n",
       "\n",
       "      DS_OCUPACAO  VR_DESPESA_MAX_CAMPANHA  VR_BEM_CANDIDATO  \n",
       "20024  EMPRESÁRIO                   123077         1259000.0  "
      ]
     },
     "execution_count": 32,
     "metadata": {},
     "output_type": "execute_result"
    }
   ],
   "source": [
    "#Identificando o empresário com maior valor de bens declarados\n",
    "cand_empresarios[cand_empresarios['VR_BEM_CANDIDATO'] == 1259000.0]"
   ]
  },
  {
   "cell_type": "code",
   "execution_count": 33,
   "metadata": {},
   "outputs": [
    {
     "data": {
      "text/plain": [
       "286000.0"
      ]
     },
     "execution_count": 33,
     "metadata": {},
     "output_type": "execute_result"
    }
   ],
   "source": [
    "cand_vereador['VR_BEM_CANDIDATO'].max()"
   ]
  },
  {
   "cell_type": "code",
   "execution_count": 34,
   "metadata": {},
   "outputs": [
    {
     "data": {
      "text/html": [
       "<div>\n",
       "<style scoped>\n",
       "    .dataframe tbody tr th:only-of-type {\n",
       "        vertical-align: middle;\n",
       "    }\n",
       "\n",
       "    .dataframe tbody tr th {\n",
       "        vertical-align: top;\n",
       "    }\n",
       "\n",
       "    .dataframe thead th {\n",
       "        text-align: right;\n",
       "    }\n",
       "</style>\n",
       "<table border=\"1\" class=\"dataframe\">\n",
       "  <thead>\n",
       "    <tr style=\"text-align: right;\">\n",
       "      <th></th>\n",
       "      <th>NM_UE</th>\n",
       "      <th>DS_CARGO</th>\n",
       "      <th>SQ_CANDIDATO</th>\n",
       "      <th>NM_CANDIDATO</th>\n",
       "      <th>NM_URNA_CANDIDATO</th>\n",
       "      <th>SG_PARTIDO</th>\n",
       "      <th>NR_IDADE_DATA_POSSE</th>\n",
       "      <th>DS_GENERO</th>\n",
       "      <th>DS_GRAU_INSTRUCAO</th>\n",
       "      <th>DS_COR_RACA</th>\n",
       "      <th>DS_OCUPACAO</th>\n",
       "      <th>VR_DESPESA_MAX_CAMPANHA</th>\n",
       "      <th>VR_BEM_CANDIDATO</th>\n",
       "    </tr>\n",
       "  </thead>\n",
       "  <tbody>\n",
       "    <tr>\n",
       "      <th>32770</th>\n",
       "      <td>SÃO THOMÉ DAS LETRAS</td>\n",
       "      <td>VEREADOR</td>\n",
       "      <td>130000776091</td>\n",
       "      <td>JUNHO MANOEL GOMES</td>\n",
       "      <td>JUNHO</td>\n",
       "      <td>REPUBLICANOS</td>\n",
       "      <td>58</td>\n",
       "      <td>MASCULINO</td>\n",
       "      <td>SUPERIOR COMPLETO</td>\n",
       "      <td>BRANCA</td>\n",
       "      <td>VEREADOR</td>\n",
       "      <td>12308</td>\n",
       "      <td>286000.0</td>\n",
       "    </tr>\n",
       "  </tbody>\n",
       "</table>\n",
       "</div>"
      ],
      "text/plain": [
       "                      NM_UE  DS_CARGO  SQ_CANDIDATO        NM_CANDIDATO  \\\n",
       "32770  SÃO THOMÉ DAS LETRAS  VEREADOR  130000776091  JUNHO MANOEL GOMES   \n",
       "\n",
       "      NM_URNA_CANDIDATO    SG_PARTIDO  NR_IDADE_DATA_POSSE  DS_GENERO  \\\n",
       "32770             JUNHO  REPUBLICANOS                   58  MASCULINO   \n",
       "\n",
       "       DS_GRAU_INSTRUCAO DS_COR_RACA DS_OCUPACAO  VR_DESPESA_MAX_CAMPANHA  \\\n",
       "32770  SUPERIOR COMPLETO      BRANCA    VEREADOR                    12308   \n",
       "\n",
       "       VR_BEM_CANDIDATO  \n",
       "32770          286000.0  "
      ]
     },
     "execution_count": 34,
     "metadata": {},
     "output_type": "execute_result"
    }
   ],
   "source": [
    "#Identificando o empresário com maior valor de bens declarados\n",
    "cand_vereador[cand_vereador['VR_BEM_CANDIDATO'] == 286000.0]"
   ]
  },
  {
   "cell_type": "code",
   "execution_count": 35,
   "metadata": {},
   "outputs": [
    {
     "data": {
      "text/plain": [
       "DS_GRAU_INSTRUCAO            \n",
       "ENSINO MÉDIO COMPLETO            25\n",
       "ENSINO FUNDAMENTAL INCOMPLETO    18\n",
       "SUPERIOR COMPLETO                 8\n",
       "ENSINO FUNDAMENTAL COMPLETO       6\n",
       "SUPERIOR INCOMPLETO               4\n",
       "ENSINO MÉDIO INCOMPLETO           2\n",
       "dtype: int64"
      ]
     },
     "execution_count": 35,
     "metadata": {},
     "output_type": "execute_result"
    }
   ],
   "source": [
    "instrucao = stl[['DS_GRAU_INSTRUCAO']].value_counts()\n",
    "instrucao"
   ]
  },
  {
   "cell_type": "code",
   "execution_count": 36,
   "metadata": {},
   "outputs": [
    {
     "data": {
      "text/html": [
       "<div>\n",
       "<style scoped>\n",
       "    .dataframe tbody tr th:only-of-type {\n",
       "        vertical-align: middle;\n",
       "    }\n",
       "\n",
       "    .dataframe tbody tr th {\n",
       "        vertical-align: top;\n",
       "    }\n",
       "\n",
       "    .dataframe thead th {\n",
       "        text-align: right;\n",
       "    }\n",
       "</style>\n",
       "<table border=\"1\" class=\"dataframe\">\n",
       "  <thead>\n",
       "    <tr style=\"text-align: right;\">\n",
       "      <th></th>\n",
       "      <th>NM_UE</th>\n",
       "      <th>DS_CARGO</th>\n",
       "      <th>SQ_CANDIDATO</th>\n",
       "      <th>NM_CANDIDATO</th>\n",
       "      <th>NM_URNA_CANDIDATO</th>\n",
       "      <th>SG_PARTIDO</th>\n",
       "      <th>NR_IDADE_DATA_POSSE</th>\n",
       "      <th>DS_GENERO</th>\n",
       "      <th>DS_GRAU_INSTRUCAO</th>\n",
       "      <th>DS_COR_RACA</th>\n",
       "      <th>DS_OCUPACAO</th>\n",
       "      <th>VR_DESPESA_MAX_CAMPANHA</th>\n",
       "      <th>VR_BEM_CANDIDATO</th>\n",
       "    </tr>\n",
       "  </thead>\n",
       "  <tbody>\n",
       "    <tr>\n",
       "      <th>24410</th>\n",
       "      <td>SÃO THOMÉ DAS LETRAS</td>\n",
       "      <td>VEREADOR</td>\n",
       "      <td>130000678885</td>\n",
       "      <td>TAIANE NUNES DA SILVA</td>\n",
       "      <td>TAIANE NUNES</td>\n",
       "      <td>AVANTE</td>\n",
       "      <td>26</td>\n",
       "      <td>FEMININO</td>\n",
       "      <td>ENSINO MÉDIO INCOMPLETO</td>\n",
       "      <td>BRANCA</td>\n",
       "      <td>DONA DE CASA</td>\n",
       "      <td>12308</td>\n",
       "      <td>NaN</td>\n",
       "    </tr>\n",
       "    <tr>\n",
       "      <th>35166</th>\n",
       "      <td>SÃO THOMÉ DAS LETRAS</td>\n",
       "      <td>VEREADOR</td>\n",
       "      <td>130000678715</td>\n",
       "      <td>LADY DAIANA DOS SANTOS PINTO</td>\n",
       "      <td>DAIANA DOS SANTOS</td>\n",
       "      <td>PSD</td>\n",
       "      <td>31</td>\n",
       "      <td>FEMININO</td>\n",
       "      <td>ENSINO MÉDIO INCOMPLETO</td>\n",
       "      <td>PARDA</td>\n",
       "      <td>DONA DE CASA</td>\n",
       "      <td>12308</td>\n",
       "      <td>NaN</td>\n",
       "    </tr>\n",
       "  </tbody>\n",
       "</table>\n",
       "</div>"
      ],
      "text/plain": [
       "                      NM_UE  DS_CARGO  SQ_CANDIDATO  \\\n",
       "24410  SÃO THOMÉ DAS LETRAS  VEREADOR  130000678885   \n",
       "35166  SÃO THOMÉ DAS LETRAS  VEREADOR  130000678715   \n",
       "\n",
       "                       NM_CANDIDATO  NM_URNA_CANDIDATO SG_PARTIDO  \\\n",
       "24410         TAIANE NUNES DA SILVA       TAIANE NUNES     AVANTE   \n",
       "35166  LADY DAIANA DOS SANTOS PINTO  DAIANA DOS SANTOS        PSD   \n",
       "\n",
       "       NR_IDADE_DATA_POSSE DS_GENERO        DS_GRAU_INSTRUCAO DS_COR_RACA  \\\n",
       "24410                   26  FEMININO  ENSINO MÉDIO INCOMPLETO      BRANCA   \n",
       "35166                   31  FEMININO  ENSINO MÉDIO INCOMPLETO       PARDA   \n",
       "\n",
       "        DS_OCUPACAO  VR_DESPESA_MAX_CAMPANHA  VR_BEM_CANDIDATO  \n",
       "24410  DONA DE CASA                    12308               NaN  \n",
       "35166  DONA DE CASA                    12308               NaN  "
      ]
     },
     "execution_count": 36,
     "metadata": {},
     "output_type": "execute_result"
    }
   ],
   "source": [
    "stl[stl['DS_GRAU_INSTRUCAO'].str.contains('ENSINO MÉDIO INCOMPLETO')]"
   ]
  }
 ],
 "metadata": {
  "kernelspec": {
   "display_name": "Python 3",
   "language": "python",
   "name": "python3"
  },
  "language_info": {
   "codemirror_mode": {
    "name": "ipython",
    "version": 3
   },
   "file_extension": ".py",
   "mimetype": "text/x-python",
   "name": "python",
   "nbconvert_exporter": "python",
   "pygments_lexer": "ipython3",
   "version": "3.8.5"
  }
 },
 "nbformat": 4,
 "nbformat_minor": 4
}
